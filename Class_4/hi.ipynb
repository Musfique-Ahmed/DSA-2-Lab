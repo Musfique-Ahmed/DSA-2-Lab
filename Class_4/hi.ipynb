{
 "cells": [
  {
   "cell_type": "markdown",
   "metadata": {},
   "source": [
    "Greedy Approach"
   ]
  },
  {
   "cell_type": "markdown",
   "metadata": {},
   "source": [
    "### Maximum Path without DP\n",
    "\n",
    "choto problem recursion diye solve korte hbe\n",
    "\n",
    "f(0,0) = max(f(1,0), f(0,1)) + grid[0][0]\n",
    "\n",
    "source theke 1 ghor dane and niche theke calculate kore oigulor modhe max er shathe source ke jog korbo.\n",
    "\n",
    "f(r, c) = max(f(r+1, c), f(r, c+1)) + grid[0][0]"
   ]
  },
  {
   "cell_type": "code",
   "execution_count": 7,
   "metadata": {},
   "outputs": [
    {
     "name": "stdout",
     "output_type": "stream",
     "text": [
      "850\n"
     ]
    }
   ],
   "source": [
    "from random import randint, seed\n",
    "\n",
    "seed(10) # shobar same random number anar jonno use korse\n",
    "\n",
    "inf = 10000000000000000000000000\n",
    "m,n  = 12, 15 #(row, column)\n",
    "grid = [[randint(1, 50) for i in range(n)] for j in range(m)]\n",
    "\n",
    "def f(r, c):\n",
    "    if r == m-1 and c == n-1:\n",
    "        return grid[m-1][n-1]\n",
    "    downMove = -inf\n",
    "    rightMove = -inf\n",
    "    if r!= m-1:\n",
    "        downMove = f(r+1, c)\n",
    "    if c!= n-1:\n",
    "        rightMove = f(r, c+1)\n",
    "    return max(downMove, rightMove) + grid[r][c]\n",
    "\n",
    "print(f(0,0))\n",
    "\n",
    "# print(grid)"
   ]
  },
  {
   "cell_type": "markdown",
   "metadata": {},
   "source": [
    "1. Overlapping subproblem\n",
    "2. Optimal "
   ]
  },
  {
   "cell_type": "markdown",
   "metadata": {},
   "source": [
    "### Maximunm Path With DP"
   ]
  },
  {
   "cell_type": "code",
   "execution_count": 10,
   "metadata": {},
   "outputs": [
    {
     "name": "stdout",
     "output_type": "stream",
     "text": [
      "35325\n"
     ]
    }
   ],
   "source": [
    "from random import randint, seed\n",
    "\n",
    "seed(10) # shobar same random number anar jonno use korse\n",
    "\n",
    "inf = 10000000000000000000000000\n",
    "m,n  = 1000, 90 #(row, column)\n",
    "grid = [[randint(1, 50) for i in range(n)] for j in range(m)]\n",
    "memo = [[-1 for i in range(n)] for j in range(m)]\n",
    "\n",
    "def f(r, c):\n",
    "    # Base case\n",
    "    if r == m-1 and c == n-1:\n",
    "        return grid[m-1][n-1]\n",
    "    # Memoization\n",
    "    if memo[r][c] != -1:\n",
    "        return memo[r][c]\n",
    "    downMove = -inf\n",
    "    rightMove = -inf\n",
    "    if r!= m-1:\n",
    "        downMove = f(r+1, c)\n",
    "    if c!= n-1:\n",
    "        rightMove = f(r, c+1)\n",
    "    # Save the answer in the memoization table\n",
    "    memo[r][c] = max(downMove, rightMove) + grid[r][c]\n",
    "    return memo[r][c]\n",
    "\n",
    "print(f(0,0))\n"
   ]
  },
  {
   "cell_type": "markdown",
   "metadata": {},
   "source": [
    "Time Complexity: O(m*n)"
   ]
  },
  {
   "cell_type": "code",
   "execution_count": 6,
   "metadata": {},
   "outputs": [
    {
     "name": "stdout",
     "output_type": "stream",
     "text": [
      "[12, 26, 25]\n",
      "[40, 2, 45]\n",
      "[32, 23, 31]\n"
     ]
    }
   ],
   "source": [
    "from random import randint, seed\n",
    "m,n  = 3, 3 #(row, column)\n",
    "grid = [[randint(1, 50) for i in range(n)] for j in range(m)]\n",
    "for i in grid:\n",
    "    print(i)"
   ]
  },
  {
   "cell_type": "code",
   "execution_count": null,
   "metadata": {},
   "outputs": [],
   "source": []
  }
 ],
 "metadata": {
  "kernelspec": {
   "display_name": "Python 3",
   "language": "python",
   "name": "python3"
  },
  "language_info": {
   "codemirror_mode": {
    "name": "ipython",
    "version": 3
   },
   "file_extension": ".py",
   "mimetype": "text/x-python",
   "name": "python",
   "nbconvert_exporter": "python",
   "pygments_lexer": "ipython3",
   "version": "3.11.5"
  }
 },
 "nbformat": 4,
 "nbformat_minor": 2
}
