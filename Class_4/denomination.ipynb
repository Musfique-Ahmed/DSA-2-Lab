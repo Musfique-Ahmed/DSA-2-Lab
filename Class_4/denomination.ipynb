{
 "cells": [
  {
   "cell_type": "markdown",
   "metadata": {},
   "source": [
    "**Problem:**\n",
    "There will be given an array of the denomination of a country.\n",
    "\n",
    "you will given n(some taka).\n",
    "Just findout if you can count n with the given denomination."
   ]
  },
  {
   "cell_type": "markdown",
   "metadata": {},
   "source": [
    "denomination = [4, 6, 13, 17]\n",
    "\n",
    "if possible(n) = if possible(n-17) or if possible(n-13) or if possible(n-6) or if possible(n-4)"
   ]
  },
  {
   "cell_type": "code",
   "execution_count": 24,
   "metadata": {},
   "outputs": [
    {
     "data": {
      "text/plain": [
       "True"
      ]
     },
     "execution_count": 24,
     "metadata": {},
     "output_type": "execute_result"
    }
   ],
   "source": [
    "coins = [4, 6, 13, 17]\n",
    "\n",
    "def ifPossible(n):\n",
    "    #Base case\n",
    "    if n == 0:\n",
    "        return True\n",
    "    if n < 0:\n",
    "        return False\n",
    "    flag = False\n",
    "    for c in coins:\n",
    "        flag = flag or ifPossible(n-c)\n",
    "    return flag\n",
    "\n",
    "ifPossible(10)"
   ]
  },
  {
   "cell_type": "code",
   "execution_count": null,
   "metadata": {},
   "outputs": [
    {
     "data": {
      "text/plain": [
       "False"
      ]
     },
     "execution_count": 23,
     "metadata": {},
     "output_type": "execute_result"
    }
   ],
   "source": [
    "# coins = [4, 6, 13, 17]\n",
    "# memo = [-1]*len(coins)\n",
    "\n",
    "# def ifPossible(n):\n",
    "#     #Base case\n",
    "#     if n == 0:\n",
    "#         return True\n",
    "#     if n < 0:\n",
    "#         return False\n",
    "#     if n in memo and memo[coins.index(n)] != -1:\n",
    "#         return memo[coins.index(n)]\n",
    "#     flag = False\n",
    "#     for c in coins:\n",
    "#         memo[coins.index(c)] = flag or ifPossible(n-c)\n",
    "#     return memo[coins.index(c)]\n",
    "\n",
    "# ifPossible(10)"
   ]
  },
  {
   "cell_type": "code",
   "execution_count": 25,
   "metadata": {},
   "outputs": [
    {
     "data": {
      "text/plain": [
       "True"
      ]
     },
     "execution_count": 25,
     "metadata": {},
     "output_type": "execute_result"
    }
   ],
   "source": [
    "coins = [4, 6, 13, 17]\n",
    "memo = [-1 for i in range(1000000)]\n",
    "\n",
    "def ifPossible(n):\n",
    "    #Memoization\n",
    "    if memo[n] != -1:\n",
    "        return memo[n]\n",
    "    #Base case\n",
    "    if n == 0:\n",
    "        return True\n",
    "    if n < 0:\n",
    "        return False\n",
    "    flag = False\n",
    "    for c in coins:\n",
    "        flag = flag or ifPossible(n-c)\n",
    "    memo[n] = flag\n",
    "    return flag\n",
    "\n",
    "ifPossible(10)"
   ]
  },
  {
   "cell_type": "markdown",
   "metadata": {},
   "source": [
    "Devide and concure a DP apply kore lav nai"
   ]
  },
  {
   "cell_type": "markdown",
   "metadata": {},
   "source": [
    "Coin change problem 2 (count number of ways n can be made)"
   ]
  },
  {
   "cell_type": "markdown",
   "metadata": {},
   "source": [
    "[4, 6, 13, 17]\n",
    "\n",
    "25 = 2*4 + 17\n",
    "\n",
    "25 = 3*4 + 13\n",
    "\n",
    "25 = 2*6 + 13\n",
    "\n",
    "\n",
    "f(n, i) = f(n-coins[i], i) + f(n, i-1)"
   ]
  },
  {
   "cell_type": "code",
   "execution_count": 26,
   "metadata": {},
   "outputs": [
    {
     "name": "stdout",
     "output_type": "stream",
     "text": [
      "3\n"
     ]
    }
   ],
   "source": [
    "coins = [4, 6, 13, 17]\n",
    "\n",
    "def counntways(n, i):\n",
    "    # Base case\n",
    "    if n == 0:\n",
    "        return 1\n",
    "    if n < 0 or i < 0:\n",
    "        return 0\n",
    "    return counntways(n-coins[i], i) + counntways(n, i-1)\n",
    "\n",
    "print(counntways(25, 3))"
   ]
  },
  {
   "cell_type": "code",
   "execution_count": null,
   "metadata": {},
   "outputs": [
    {
     "name": "stdout",
     "output_type": "stream",
     "text": [
      "74\n"
     ]
    }
   ],
   "source": [
    "# coins = [4, 6, 13, 17]\n",
    "# memo = [-1 for i in range(1000)]\n",
    "\n",
    "# def counntways(n, i):\n",
    "#     if memo[n] == -1:\n",
    "#         memo[n] = 1\n",
    "#     # Base case\n",
    "#     if n == 0:\n",
    "#         return 1\n",
    "#     if n < 0 or i < 0:\n",
    "#         return 0\n",
    "#     memo[n] += (counntways(n-coins[i], i) + counntways(n, i-1))\n",
    "#     return memo[n]\n",
    "\n",
    "# print(counntways(25, 3))"
   ]
  },
  {
   "cell_type": "code",
   "execution_count": 33,
   "metadata": {},
   "outputs": [
    {
     "name": "stdout",
     "output_type": "stream",
     "text": [
      "3\n"
     ]
    }
   ],
   "source": [
    "coins = [4, 6, 13, 17]\n",
    "memo = [[-1 for i in range(len(coins))] for _ in range(1000)]\n",
    "\n",
    "def counntways(n, i):\n",
    "    #MEmoization\n",
    "    if memo[n][i] != -1:\n",
    "        return memo[n][i]\n",
    "    # Base case\n",
    "    if n == 0:\n",
    "        return 1\n",
    "    if n < 0 or i < 0:\n",
    "        return 0\n",
    "    memo[n][i] = counntways(n-coins[i], i) + counntways(n, i-1)\n",
    "    return memo[n][i]\n",
    "\n",
    "print(counntways(25, 3))"
   ]
  },
  {
   "cell_type": "markdown",
   "metadata": {},
   "source": [
    "Coin change problem 2 (Minimum number of coins needed to make the amount)"
   ]
  },
  {
   "cell_type": "code",
   "execution_count": null,
   "metadata": {},
   "outputs": [],
   "source": [
    "coins = [4, 6, 13, 17]\n",
    "memo = [[-1 for i in range(len(coins))] for j in range(1000)]\n",
    "\n",
    "def coin(n, i):\n",
    "    if memo[n][i] != -1:\n",
    "        return memo[n][i]\n",
    "    if n == 0:\n",
    "        return 1\n",
    "    "
   ]
  }
 ],
 "metadata": {
  "kernelspec": {
   "display_name": "Python 3",
   "language": "python",
   "name": "python3"
  },
  "language_info": {
   "codemirror_mode": {
    "name": "ipython",
    "version": 3
   },
   "file_extension": ".py",
   "mimetype": "text/x-python",
   "name": "python",
   "nbconvert_exporter": "python",
   "pygments_lexer": "ipython3",
   "version": "3.11.5"
  }
 },
 "nbformat": 4,
 "nbformat_minor": 2
}
