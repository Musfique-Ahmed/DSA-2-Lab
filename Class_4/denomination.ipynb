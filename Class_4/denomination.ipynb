{
 "cells": [
  {
   "cell_type": "markdown",
   "metadata": {},
   "source": [
    "**Problem:**\n",
    "There will be given an array of the denomination of a country.\n",
    "\n",
    "you will given n(some taka).\n",
    "Just findout if you can count n with the given denomination."
   ]
  },
  {
   "cell_type": "markdown",
   "metadata": {},
   "source": [
    "denomination = [4, 6, 13, 17]\n",
    "\n",
    "if possible(n) = if possible(n-17) or if possible(n-13) or if possible(n-6) or if possible(n-4)"
   ]
  },
  {
   "cell_type": "code",
   "execution_count": 24,
   "metadata": {},
   "outputs": [
    {
     "data": {
      "text/plain": [
       "True"
      ]
     },
     "execution_count": 24,
     "metadata": {},
     "output_type": "execute_result"
    }
   ],
   "source": [
    "coins = [4, 6, 13, 17]\n",
    "\n",
    "def ifPossible(n):\n",
    "    #Base case\n",
    "    if n == 0:\n",
    "        return True\n",
    "    if n < 0:\n",
    "        return False\n",
    "    flag = False\n",
    "    for c in coins:\n",
    "        flag = flag or ifPossible(n-c)\n",
    "    return flag\n",
    "\n",
    "ifPossible(10)"
   ]
  },
  {
   "cell_type": "code",
   "execution_count": null,
   "metadata": {},
   "outputs": [
    {
     "data": {
      "text/plain": [
       "False"
      ]
     },
     "execution_count": 23,
     "metadata": {},
     "output_type": "execute_result"
    }
   ],
   "source": [
    "# coins = [4, 6, 13, 17]\n",
    "# memo = [-1]*len(coins)\n",
    "\n",
    "# def ifPossible(n):\n",
    "#     #Base case\n",
    "#     if n == 0:\n",
    "#         return True\n",
    "#     if n < 0:\n",
    "#         return False\n",
    "#     if n in memo and memo[coins.index(n)] != -1:\n",
    "#         return memo[coins.index(n)]\n",
    "#     flag = False\n",
    "#     for c in coins:\n",
    "#         memo[coins.index(c)] = flag or ifPossible(n-c)\n",
    "#     return memo[coins.index(c)]\n",
    "\n",
    "# ifPossible(10)"
   ]
  },
  {
   "cell_type": "code",
   "execution_count": 25,
   "metadata": {},
   "outputs": [
    {
     "data": {
      "text/plain": [
       "True"
      ]
     },
     "execution_count": 25,
     "metadata": {},
     "output_type": "execute_result"
    }
   ],
   "source": [
    "coins = [4, 6, 13, 17]\n",
    "memo = [-1 for i in range(1000000)]\n",
    "\n",
    "def ifPossible(n):\n",
    "    #Memoization\n",
    "    if memo[n] != -1:\n",
    "        return memo[n]\n",
    "    #Base case\n",
    "    if n == 0:\n",
    "        return True\n",
    "    if n < 0:\n",
    "        return False\n",
    "    flag = False\n",
    "    for c in coins:\n",
    "        flag = flag or ifPossible(n-c)\n",
    "    memo[n] = flag\n",
    "    return flag\n",
    "\n",
    "ifPossible(10)"
   ]
  },
  {
   "cell_type": "markdown",
   "metadata": {},
   "source": [
    "Devide and concure a DP apply kore lav nai"
   ]
  }
 ],
 "metadata": {
  "kernelspec": {
   "display_name": "Python 3",
   "language": "python",
   "name": "python3"
  },
  "language_info": {
   "codemirror_mode": {
    "name": "ipython",
    "version": 3
   },
   "file_extension": ".py",
   "mimetype": "text/x-python",
   "name": "python",
   "nbconvert_exporter": "python",
   "pygments_lexer": "ipython3",
   "version": "3.12.8"
  }
 },
 "nbformat": 4,
 "nbformat_minor": 2
}
