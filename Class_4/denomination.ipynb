{
 "cells": [
  {
   "cell_type": "markdown",
   "metadata": {},
   "source": [
    "**Problem:**\n",
    "There will be given an array of the denomination of a country.\n",
    "\n",
    "you will given n(some taka).\n",
    "Just findout if you can count n with the given denomination."
   ]
  },
  {
   "cell_type": "markdown",
   "metadata": {},
   "source": [
    "denomination = [4, 6, 13, 17]\n",
    "\n",
    "if possible(n) = if possible(n-17) or if possible(n-13) or if possible(n-6) or if possible(n-4)"
   ]
  },
  {
   "cell_type": "code",
   "execution_count": null,
   "metadata": {
    "vscode": {
     "languageId": "plaintext"
    }
   },
   "outputs": [],
   "source": []
  }
 ],
 "metadata": {
  "language_info": {
   "name": "python"
  }
 },
 "nbformat": 4,
 "nbformat_minor": 2
}
