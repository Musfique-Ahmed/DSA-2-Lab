{
 "cells": [
  {
   "cell_type": "markdown",
   "metadata": {},
   "source": [
    "**Problem:**\n",
    "There will be given an array of the denomination of a country.\n",
    "\n",
    "you will given n(some taka).\n",
    "Just findout if you can count n with the given denomination."
   ]
  },
  {
   "cell_type": "markdown",
   "metadata": {},
   "source": [
    "denomination = [4, 6, 13, 17]\n",
    "\n",
    "if possible(n) = if possible(n-17) or if possible(n-13) or if possible(n-6) or if possible(n-4)"
   ]
  },
  {
   "cell_type": "code",
   "execution_count": 24,
   "metadata": {},
   "outputs": [
    {
     "data": {
      "text/plain": [
       "True"
      ]
     },
     "execution_count": 24,
     "metadata": {},
     "output_type": "execute_result"
    }
   ],
   "source": [
    "coins = [4, 6, 13, 17]\n",
    "\n",
    "def ifPossible(n):\n",
    "    #Base case\n",
    "    if n == 0:\n",
    "        return True\n",
    "    if n < 0:\n",
    "        return False\n",
    "    flag = False\n",
    "    for c in coins:\n",
    "        flag = flag or ifPossible(n-c)\n",
    "    return flag\n",
    "\n",
    "ifPossible(10)"
   ]
  },
  {
   "cell_type": "code",
   "execution_count": null,
   "metadata": {},
   "outputs": [
    {
     "data": {
      "text/plain": [
       "False"
      ]
     },
     "execution_count": 23,
     "metadata": {},
     "output_type": "execute_result"
    }
   ],
   "source": [
    "# coins = [4, 6, 13, 17]\n",
    "# memo = [-1]*len(coins)\n",
    "\n",
    "# def ifPossible(n):\n",
    "#     #Base case\n",
    "#     if n == 0:\n",
    "#         return True\n",
    "#     if n < 0:\n",
    "#         return False\n",
    "#     if n in memo and memo[coins.index(n)] != -1:\n",
    "#         return memo[coins.index(n)]\n",
    "#     flag = False\n",
    "#     for c in coins:\n",
    "#         memo[coins.index(c)] = flag or ifPossible(n-c)\n",
    "#     return memo[coins.index(c)]\n",
    "\n",
    "# ifPossible(10)"
   ]
  },
  {
   "cell_type": "code",
   "execution_count": 25,
   "metadata": {},
   "outputs": [
    {
     "data": {
      "text/plain": [
       "True"
      ]
     },
     "execution_count": 25,
     "metadata": {},
     "output_type": "execute_result"
    }
   ],
   "source": [
    "coins = [4, 6, 13, 17]\n",
    "memo = [-1 for i in range(1000000)]\n",
    "\n",
    "def ifPossible(n):\n",
    "    #Memoization\n",
    "    if memo[n] != -1:\n",
    "        return memo[n]\n",
    "    #Base case\n",
    "    if n == 0:\n",
    "        return True\n",
    "    if n < 0:\n",
    "        return False\n",
    "    flag = False\n",
    "    for c in coins:\n",
    "        flag = flag or ifPossible(n-c)\n",
    "    memo[n] = flag\n",
    "    return flag\n",
    "\n",
    "ifPossible(10)"
   ]
  },
  {
   "cell_type": "markdown",
   "metadata": {},
   "source": [
    "Devide and concure a DP apply kore lav nai"
   ]
  },
  {
   "cell_type": "markdown",
   "metadata": {},
   "source": [
    "Coin change problem 2 (count number of ways n can be made)"
   ]
  },
  {
   "cell_type": "markdown",
   "metadata": {},
   "source": [
    "[4, 6, 13, 17]\n",
    "\n",
    "25 = 2*4 + 17\n",
    "\n",
    "25 = 3*4 + 13\n",
    "\n",
    "25 = 2*6 + 13\n",
    "\n",
    "\n",
    "f(n, i) = f(n-coins[i], i) + f(n, i-1)"
   ]
  },
  {
   "cell_type": "code",
   "execution_count": 26,
   "metadata": {},
   "outputs": [
    {
     "name": "stdout",
     "output_type": "stream",
     "text": [
      "3\n"
     ]
    }
   ],
   "source": [
    "coins = [4, 6, 13, 17]\n",
    "\n",
    "def counntways(n, i):\n",
    "    # Base case\n",
    "    if n == 0:\n",
    "        return 1\n",
    "    if n < 0 or i < 0:\n",
    "        return 0\n",
    "    return counntways(n-coins[i], i) + counntways(n, i-1)\n",
    "\n",
    "print(counntways(25, 3))"
   ]
  },
  {
   "cell_type": "code",
   "execution_count": null,
   "metadata": {},
   "outputs": [
    {
     "name": "stdout",
     "output_type": "stream",
     "text": [
      "74\n"
     ]
    }
   ],
   "source": [
    "# coins = [4, 6, 13, 17]\n",
    "# memo = [-1 for i in range(1000)]\n",
    "\n",
    "# def counntways(n, i):\n",
    "#     if memo[n] == -1:\n",
    "#         memo[n] = 1\n",
    "#     # Base case\n",
    "#     if n == 0:\n",
    "#         return 1\n",
    "#     if n < 0 or i < 0:\n",
    "#         return 0\n",
    "#     memo[n] += (counntways(n-coins[i], i) + counntways(n, i-1))\n",
    "#     return memo[n]\n",
    "\n",
    "# print(counntways(25, 3))"
   ]
  },
  {
   "cell_type": "code",
   "execution_count": 33,
   "metadata": {},
   "outputs": [
    {
     "name": "stdout",
     "output_type": "stream",
     "text": [
      "3\n"
     ]
    }
   ],
   "source": [
    "coins = [4, 6, 13, 17]\n",
    "memo = [[-1 for i in range(len(coins))] for _ in range(1000)]\n",
    "\n",
    "def counntways(n, i):\n",
    "    #MEmoization\n",
    "    if memo[n][i] != -1:\n",
    "        return memo[n][i]\n",
    "    # Base case\n",
    "    if n == 0:\n",
    "        return 1\n",
    "    if n < 0 or i < 0:\n",
    "        return 0\n",
    "    memo[n][i] = counntways(n-coins[i], i) + counntways(n, i-1)\n",
    "    return memo[n][i]\n",
    "\n",
    "print(counntways(25, 3))"
   ]
  },
  {
   "cell_type": "markdown",
   "metadata": {},
   "source": [
    "Minimum number of coins required"
   ]
  },
  {
   "cell_type": "code",
   "execution_count": null,
   "metadata": {},
   "outputs": [],
   "source": [
    "def minCoins(coins, amount):\n",
    "    # Create a DP table to store the minimum coins required for each amount\n",
    "    # Initialize the DP table with a value greater than the amount (infinity)\n",
    "    dp = [float('inf')] * (amount + 1)\n",
    "    \n",
    "    # Base case: 0 amount requires 0 coins\n",
    "    dp[0] = 0\n",
    "    \n",
    "    # Loop through all coin denominations\n",
    "    for coin in coins:\n",
    "        for i in range(coin, amount + 1):\n",
    "            dp[i] = min(dp[i], dp[i - coin] + 1)\n",
    "    \n",
    "    # If dp[amount] is still infinity, it means it's not possible to make the amount\n",
    "    if dp[amount] == float('inf'):\n",
    "        return -1\n",
    "    else:\n",
    "        return dp[amount]\n",
    "\n",
    "# Example usage:\n",
    "coins = [1, 2, 5]\n",
    "amount = 11\n",
    "print(minCoins(coins, amount))  # Output: 3 (since 5 + 5 + 1 = 11)\n"
   ]
  },
  {
   "cell_type": "code",
   "execution_count": 6,
   "metadata": {},
   "outputs": [
    {
     "name": "stdout",
     "output_type": "stream",
     "text": [
      "4\n"
     ]
    }
   ],
   "source": [
    "coins = [1, 2, 5]  # Coin denominations\n",
    "memo = [[-1 for _ in range(len(coins))] for _ in range(1000)]  # Memoization table\n",
    "\n",
    "def minCoins(n, i):\n",
    "    # Memoization\n",
    "    if memo[n][i] != -1:\n",
    "        return memo[n][i]\n",
    "    \n",
    "    # Base cases\n",
    "    if n == 0:\n",
    "        return 0  # 0 amount requires 0 coins\n",
    "    if n < 0 or i < 0:\n",
    "        return float('inf')  # Impossible to make negative amount or if no coins are left\n",
    "    \n",
    "    # Choose either not to use the current coin or use it\n",
    "    memo[n][i] = min(minCoins(n, i-1), 1 + minCoins(n - coins[i], i))\n",
    "    \n",
    "    return memo[n][i]\n",
    "\n",
    "# Example usage\n",
    "amount = 13\n",
    "print(minCoins(amount, len(coins) - 1))  # Output: 3 (since 5 + 5 + 1 = 11)\n"
   ]
  },
  {
   "cell_type": "code",
   "execution_count": null,
   "metadata": {},
   "outputs": [
    {
     "name": "stdout",
     "output_type": "stream",
     "text": [
      "5\n"
     ]
    }
   ],
   "source": [
    "coins = [1,4,13,17]\n",
    "memo = [[-1 for _ in range(len(coins))] for i in range(100)]\n",
    "\n",
    "def minCoins(amount, coin_index):\n",
    "    # Memoization\n",
    "    if memo[amount][coin_index] != -1:\n",
    "        return memo[amount][coin_index]\n",
    "\n",
    "    # base case\n",
    "    if amount == 0:\n",
    "        return 0\n",
    "    if amount<0 or coin_index<0:\n",
    "        return float(\"inf\")\n",
    "    \n",
    "    memo[amount][coin_index] = min(minCoins(amount, coin_index-1), 1+minCoins(amount-coins[coin_index], coin_index))\n",
    "    return memo[amount][coin]\n",
    "\n",
    "\n",
    "print(minCoins(11, len(coins)-1))"
   ]
  },
  {
   "cell_type": "code",
   "execution_count": 16,
   "metadata": {},
   "outputs": [
    {
     "name": "stdout",
     "output_type": "stream",
     "text": [
      "5\n"
     ]
    }
   ],
   "source": [
    "coins=[1,4,6,13,17]\n",
    "memo=[[-1 for _ in range(len(coins))]for _ in range(1000) ]\n",
    "def countways(n,i):\n",
    "    if memo[n][i]!=-1:\n",
    "        return memo[n][i]\n",
    "    if n==0:\n",
    "        return 1\n",
    "    if n<0 or i<0:\n",
    "        return 0\n",
    "    memo[n][i] = countways(n-coins[i], i) + countways(n, i-1)\n",
    "    return memo[n][i]\n",
    "print(countways(11, 4))"
   ]
  },
  {
   "cell_type": "code",
   "execution_count": null,
   "metadata": {},
   "outputs": [],
   "source": [
    "coins = [4, 6, 13, 17]\n",
    "memo = [[-1 for i in range(len(coins))] for _ in range(1000)]\n",
    "\n",
    "def counntways(n, i):\n",
    "    #MEmoization\n",
    "    if memo[n][i] != -1:\n",
    "        return memo[n][i]\n",
    "    # Base case\n",
    "    if n == 0:\n",
    "        return 1\n",
    "    if n < 0 or i < 0:\n",
    "        return 0\n",
    "    memo[n][i] = counntways(n-coins[i], i) + counntways(n, i-1)\n",
    "    return memo[n][i]\n",
    "\n",
    "print(counntways(25, 3))"
   ]
  }
 ],
 "metadata": {
  "kernelspec": {
   "display_name": "Python 3",
   "language": "python",
   "name": "python3"
  },
  "language_info": {
   "codemirror_mode": {
    "name": "ipython",
    "version": 3
   },
   "file_extension": ".py",
   "mimetype": "text/x-python",
   "name": "python",
   "nbconvert_exporter": "python",
   "pygments_lexer": "ipython3",
   "version": "3.12.8"
  }
 },
 "nbformat": 4,
 "nbformat_minor": 2
}
