{
 "cells": [
  {
   "cell_type": "markdown",
   "metadata": {},
   "source": [
    "r(n) = max(price[i] + r(n-i))\n"
   ]
  },
  {
   "cell_type": "code",
   "execution_count": 2,
   "metadata": {},
   "outputs": [
    {
     "name": "stdout",
     "output_type": "stream",
     "text": [
      "18\n"
     ]
    }
   ],
   "source": [
    "price = [0,1,5, 8,9,10, 17, 17]\n",
    "inf = 1000000000000000000000000\n",
    "memo = [-1 for i in range(len(price))]\n",
    "cuts = [-1 for i in range(len(price))]\n",
    "def rodCutting(n):\n",
    "    memo[0] = 0\n",
    "    cuts[0] = 0\n",
    "    for rodLength in range(1, n+1):\n",
    "        memo[rodLength] = -inf\n",
    "        for i in range(1, rodLength+1):\n",
    "            currentProfit = price[i] + memo[rodLength-i]\n",
    "            if currentProfit > memo[rodLength]:\n",
    "                memo[rodLength] = currentProfit\n",
    "                cuts[rodLength] = i\n",
    "    \n",
    "    return memo[n]\n",
    "\n",
    "print(rodCutting(7))"
   ]
  },
  {
   "cell_type": "code",
   "execution_count": null,
   "metadata": {},
   "outputs": [
    {
     "name": "stdout",
     "output_type": "stream",
     "text": [
      "-1\n",
      "[-1, -1, -1, -1, -1, -1, -1, -1, -1]\n",
      "[-1, -1, -1, -1, -1, -1, -1, -1, -1]\n",
      "[-1, -1, -1, -1, -1, -1, -1, -1, -1]\n",
      "[-1, -1, -1, -1, -1, -1, -1, -1, -1]\n",
      "[-1, -1, -1, -1, -1, -1, -1, -1, -1]\n",
      "[-1, -1, -1, -1, -1, -1, -1, -1, -1]\n",
      "[-1, -1, -1, -1, -1, -1, -1, -1, -1]\n",
      "[-1, -1, -1, -1, -1, -1, -1, -1, -1]\n"
     ]
    }
   ],
   "source": [
    "s1 = \"abuanas\"\n",
    "s2 = \"tasnubas\"\n",
    "memo = [[-1 for _ in range(len(s2)+1)] for _ in range(len(s1)+1)]\n",
    "def LCS(m,n):\n",
    "    #Base Case\n",
    "    if m == 0 or n == 0:\n",
    "        return 0\n",
    "    # Memoization\n",
    "    if memo[m][n] != 1:\n",
    "        return memo[m][n]\n",
    "    #Matching case\n",
    "    if s1[m-1] == s2[n-1]:\n",
    "        # memo[m][n] = 1 + LCS(m-1, n-1)\n",
    "        return 1 + LCS(m-1, n-1)\n",
    "\n",
    "    #Mismatching Case\n",
    "    else:\n",
    "        memo[m][n] = max(LCS(m-1, n), LCS(m, n-1))\n",
    "    return memo[m][n]\n",
    "\n",
    "print(LCS(len(s1), len(s2)))\n",
    "print(*memo, sep=\"\\n\")\n",
    "\n",
    "\n",
    "#Retrive LCS\n",
    "i,j = len(s1), len(s2)\n",
    "while i>0 and j>0:\n",
    "    if "
   ]
  },
  {
   "cell_type": "code",
   "execution_count": null,
   "metadata": {},
   "outputs": [],
   "source": []
  },
  {
   "cell_type": "markdown",
   "metadata": {},
   "source": [
    "### Mid Suggestion\n",
    "\n",
    "1. Coin Change Variation\n",
    "2. Theory problems(rod cutting, lcs, 01 knapsack)\n",
    "3. Fibonachi Variation (diffrent type er)\n",
    "4. ncr with DP\n",
    "5. \n",
    "\n",
    "(Mostly focus on DP)"
   ]
  },
  {
   "cell_type": "markdown",
   "metadata": {},
   "source": []
  }
 ],
 "metadata": {
  "kernelspec": {
   "display_name": "Python 3",
   "language": "python",
   "name": "python3"
  },
  "language_info": {
   "codemirror_mode": {
    "name": "ipython",
    "version": 3
   },
   "file_extension": ".py",
   "mimetype": "text/x-python",
   "name": "python",
   "nbconvert_exporter": "python",
   "pygments_lexer": "ipython3",
   "version": "3.12.8"
  }
 },
 "nbformat": 4,
 "nbformat_minor": 2
}
