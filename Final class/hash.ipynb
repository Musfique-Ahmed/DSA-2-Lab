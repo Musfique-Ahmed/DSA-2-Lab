{
 "cells": [
  {
   "cell_type": "code",
   "execution_count": 2,
   "id": "7ecef4c9",
   "metadata": {},
   "outputs": [
    {
     "name": "stdout",
     "output_type": "stream",
     "text": [
      "331\n",
      "331\n"
     ]
    }
   ],
   "source": [
    "def string_to_num(word):\n",
    "    num = 0\n",
    "    for w in word:\n",
    "        num += ord(w)\n",
    "    return num\n",
    "\n",
    "\n",
    "print(string_to_num(\"was\"))\n",
    "print(string_to_num(\"saw\"))"
   ]
  },
  {
   "cell_type": "code",
   "execution_count": 7,
   "id": "92bcb4b1",
   "metadata": {},
   "outputs": [
    {
     "name": "stdout",
     "output_type": "stream",
     "text": [
      "12589\n",
      "12985\n"
     ]
    }
   ],
   "source": [
    "def string_to_num_final(word):\n",
    "    num = 0\n",
    "    order = 1\n",
    "    for w in word:\n",
    "        num += ord(w)*order\n",
    "        order *= 10\n",
    "    return num\n",
    "\n",
    "\n",
    "print(string_to_num(\"was\"))\n",
    "print(string_to_num(\"saw\"))"
   ]
  },
  {
   "cell_type": "markdown",
   "id": "0a8f2c6e",
   "metadata": {},
   "source": [
    "# FInal Syllabud\n",
    "\n",
    "MST\n",
    "\n",
    "SSSP\n",
    "\n",
    "DSU\n",
    "\n",
    "String matching"
   ]
  },
  {
   "cell_type": "code",
   "execution_count": 9,
   "id": "3d5d075a",
   "metadata": {},
   "outputs": [
    {
     "name": "stdout",
     "output_type": "stream",
     "text": [
      "Pattern found at position: 8\n"
     ]
    }
   ],
   "source": [
    "text = 'gastroentomology'\n",
    "pattern = \"tomo\"\n",
    "\n",
    "pattern_hash = string_to_num_final(pattern)\n",
    "substring_hash = string_to_num_final(text[:len(pattern)])\n",
    "\n",
    "for i in range(len(text) - len(pattern)):\n",
    "    if pattern_hash == substring_hash:\n",
    "        print(f\"Pattern found at position: {i}\")\n",
    "    substring_hash -= ord(text[i])\n",
    "    substring_hash /= 10\n",
    "    substring_hash += ord(text[i + len(pattern)]) * (10 ** (len(pattern) - 1))"
   ]
  },
  {
   "cell_type": "code",
   "execution_count": null,
   "id": "4ea86a97",
   "metadata": {},
   "outputs": [],
   "source": []
  }
 ],
 "metadata": {
  "kernelspec": {
   "display_name": "Python 3",
   "language": "python",
   "name": "python3"
  },
  "language_info": {
   "codemirror_mode": {
    "name": "ipython",
    "version": 3
   },
   "file_extension": ".py",
   "mimetype": "text/x-python",
   "name": "python",
   "nbconvert_exporter": "python",
   "pygments_lexer": "ipython3",
   "version": "3.12.8"
  }
 },
 "nbformat": 4,
 "nbformat_minor": 5
}
