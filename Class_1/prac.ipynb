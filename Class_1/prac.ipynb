{
 "cells": [
  {
   "cell_type": "markdown",
   "metadata": {},
   "source": [
    "# Class 1: "
   ]
  },
  {
   "cell_type": "markdown",
   "metadata": {},
   "source": [
    "### Mid Syllabus:\n",
    "- Recursion\n",
    "- Devide and Conquer\n",
    "- Dynamic Programming"
   ]
  },
  {
   "cell_type": "code",
   "execution_count": 2,
   "metadata": {},
   "outputs": [
    {
     "name": "stdout",
     "output_type": "stream",
     "text": [
      "HI\n"
     ]
    }
   ],
   "source": [
    "print(\"HI\")"
   ]
  },
  {
   "cell_type": "markdown",
   "metadata": {},
   "source": [
    "## Recursion"
   ]
  },
  {
   "cell_type": "markdown",
   "metadata": {},
   "source": [
    "### Factorial Calculation\n",
    "\n",
    "    Function:\n",
    "\n",
    "        Base Case\n",
    "\n",
    "        Recursive step"
   ]
  },
  {
   "cell_type": "code",
   "execution_count": 3,
   "metadata": {},
   "outputs": [
    {
     "name": "stdout",
     "output_type": "stream",
     "text": [
      "120\n"
     ]
    }
   ],
   "source": [
    "n = 5\n",
    "\n",
    "def factorial(n):\n",
    "    if n == 0:\n",
    "        return 1\n",
    "    \n",
    "    return n*factorial(n-1)\n",
    "\n",
    "print(factorial(n))"
   ]
  },
  {
   "cell_type": "code",
   "execution_count": null,
   "metadata": {},
   "outputs": [],
   "source": [
    "n = int(input())\n",
    "\n",
    "sum = 0\n",
    "\n",
    "def squere(x = 1, n):\n",
    "    if x == n:\n",
    "        return\n",
    "    \n",
    "    sum += x ** 2\n",
    "    # squere"
   ]
  },
  {
   "cell_type": "code",
   "execution_count": 5,
   "metadata": {},
   "outputs": [
    {
     "name": "stdout",
     "output_type": "stream",
     "text": [
      "55\n"
     ]
    }
   ],
   "source": [
    "n = 5\n",
    "\n",
    "def calc(n):\n",
    "    if n == 1:\n",
    "        return 1\n",
    "    return n**2 + calc(n-1)\n",
    "\n",
    "\n",
    "print(calc(n))"
   ]
  },
  {
   "cell_type": "code",
   "execution_count": 6,
   "metadata": {},
   "outputs": [
    {
     "name": "stdout",
     "output_type": "stream",
     "text": [
      "1\n"
     ]
    }
   ],
   "source": [
    "lst = [3,5,2,7,1,8]\n",
    "\n",
    "def find_min(lst):\n",
    "    if len(lst) == 1:\n",
    "        return lst[0]\n",
    "    x = find_min(lst[:-1])\n",
    "    y = lst[-1]\n",
    "    return x if x<y else y\n",
    "\n",
    "\n",
    "print(find_min(lst))"
   ]
  },
  {
   "cell_type": "code",
   "execution_count": 7,
   "metadata": {},
   "outputs": [
    {
     "name": "stdout",
     "output_type": "stream",
     "text": [
      "True\n",
      "True\n",
      "False\n"
     ]
    }
   ],
   "source": [
    "word_1 = \"racecar\"\n",
    "word_2 = \"amma\"\n",
    "word_3 = \"hellh\"\n",
    "\n",
    "def is_palindrom(word):\n",
    "    if len(word) <= 1:\n",
    "        return True\n",
    "    return (word[0] == word[-1]) and (is_palindrom(word[1:-1]))\n",
    "\n",
    "print(is_palindrom(word_1))\n",
    "print(is_palindrom(word_2))\n",
    "print(is_palindrom(word_3))"
   ]
  },
  {
   "cell_type": "code",
   "execution_count": 11,
   "metadata": {},
   "outputs": [
    {
     "name": "stdout",
     "output_type": "stream",
     "text": [
      "9\n"
     ]
    }
   ],
   "source": [
    "num_1 = 540\n",
    "\n",
    "def sum_integer(num):\n",
    "    if num == 0:\n",
    "        return 0\n",
    "\n",
    "    x = num % 10\n",
    "\n",
    "    return x + sum_integer(num // 10)\n",
    "\n",
    "\n",
    "print(sum_integer(num_1))"
   ]
  },
  {
   "cell_type": "code",
   "execution_count": 17,
   "metadata": {},
   "outputs": [
    {
     "name": "stdout",
     "output_type": "stream",
     "text": [
      "341"
     ]
    }
   ],
   "source": [
    "num_1 = 143\n",
    "\n",
    "def ulta_print(num):\n",
    "    if num == 0:\n",
    "        return\n",
    "    \n",
    "    print(num % 10, end=\"\")\n",
    "    ulta_print(num // 10)\n",
    "\n",
    "ulta_print(num_1)"
   ]
  },
  {
   "cell_type": "code",
   "execution_count": null,
   "metadata": {},
   "outputs": [
    {
     "name": "stdout",
     "output_type": "stream",
     "text": [
      "1024\n"
     ]
    }
   ],
   "source": [
    "b,n = 2,10\n",
    "\n",
    "def exponential(b,n):\n",
    "    if n == 0:\n",
    "        return 1\n",
    "    return b * exponential(b,n-1)\n",
    "\n",
    "print(exponential(b,n))\n"
   ]
  },
  {
   "cell_type": "markdown",
   "metadata": {},
   "source": [
    "Time Complexity: O(n)"
   ]
  },
  {
   "cell_type": "code",
   "execution_count": 22,
   "metadata": {},
   "outputs": [
    {
     "name": "stdout",
     "output_type": "stream",
     "text": [
      "81\n"
     ]
    }
   ],
   "source": [
    "def fastExp(b, n):\n",
    "    if n == 0:\n",
    "        return 1\n",
    "    \n",
    "    prod = fastExp(b, n//2)\n",
    "    prod *= prod\n",
    "    if n % 2 == 1:\n",
    "        prod *= b\n",
    "\n",
    "    return prod\n",
    "\n",
    "print(fastExp(3,4))"
   ]
  },
  {
   "cell_type": "markdown",
   "metadata": {},
   "source": [
    "Time Complexity: O(log n)"
   ]
  },
  {
   "cell_type": "markdown",
   "metadata": {},
   "source": [
    "## Devide and Conquere"
   ]
  },
  {
   "cell_type": "markdown",
   "metadata": {},
   "source": [
    "nCr = (n-1)Cr + (n-1)C(r-1)"
   ]
  },
  {
   "cell_type": "code",
   "execution_count": 25,
   "metadata": {},
   "outputs": [
    {
     "name": "stdout",
     "output_type": "stream",
     "text": [
      "4\n"
     ]
    }
   ],
   "source": [
    "def combination(n, r):\n",
    "    if r == 0 or n == r:\n",
    "        return 1\n",
    "    \n",
    "    return combination(n-1, r) + combination(n-1, r-1)\n",
    "\n",
    "print(combination(4, 3))"
   ]
  },
  {
   "cell_type": "code",
   "execution_count": null,
   "metadata": {},
   "outputs": [],
   "source": []
  }
 ],
 "metadata": {
  "kernelspec": {
   "display_name": "Python 3",
   "language": "python",
   "name": "python3"
  },
  "language_info": {
   "codemirror_mode": {
    "name": "ipython",
    "version": 3
   },
   "file_extension": ".py",
   "mimetype": "text/x-python",
   "name": "python",
   "nbconvert_exporter": "python",
   "pygments_lexer": "ipython3",
   "version": "3.12.3"
  }
 },
 "nbformat": 4,
 "nbformat_minor": 2
}
