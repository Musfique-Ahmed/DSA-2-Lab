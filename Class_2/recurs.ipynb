{
 "cells": [
  {
   "cell_type": "code",
   "execution_count": 1,
   "metadata": {},
   "outputs": [
    {
     "name": "stdout",
     "output_type": "stream",
     "text": [
      "HI\n"
     ]
    }
   ],
   "source": [
    "print(\"HI\")"
   ]
  },
  {
   "cell_type": "code",
   "execution_count": 2,
   "metadata": {},
   "outputs": [
    {
     "name": "stdout",
     "output_type": "stream",
     "text": [
      "28\n"
     ]
    }
   ],
   "source": [
    "lst = [1,2,3,4,5,6,7]\n",
    "\n",
    "\n",
    "def sumation(lst):\n",
    "    if len(lst) == 1:\n",
    "        return lst[0]\n",
    "\n",
    "    return lst[-1] + sumation(lst[:-1])\n",
    "\n",
    "print(sumation(lst))"
   ]
  },
  {
   "cell_type": "markdown",
   "metadata": {},
   "source": [
    "Sum of list in the devide and conquer approach"
   ]
  },
  {
   "cell_type": "code",
   "execution_count": 3,
   "metadata": {},
   "outputs": [
    {
     "name": "stdout",
     "output_type": "stream",
     "text": [
      "28\n"
     ]
    }
   ],
   "source": [
    "def listSum(lst):\n",
    "    if len(lst) == 1:\n",
    "        return lst[0]\n",
    "    \n",
    "    mid = len(lst)//2\n",
    "    leftSide = listSum(lst[:mid])\n",
    "    rightSide = listSum(lst[mid:])\n",
    "    return leftSide + rightSide\n",
    "\n",
    "print(listSum(lst))"
   ]
  },
  {
   "cell_type": "code",
   "execution_count": 4,
   "metadata": {},
   "outputs": [
    {
     "name": "stdout",
     "output_type": "stream",
     "text": [
      "3\n"
     ]
    }
   ],
   "source": [
    "def findEven(lst):\n",
    "    if len(lst) == 1:\n",
    "        if lst[0] % 2 == 0:\n",
    "            return 1\n",
    "        else:\n",
    "            return 0\n",
    "    \n",
    "    mid = len(lst)//2\n",
    "    leftSide = findEven(lst[:mid])\n",
    "    rightSide = findEven(lst[mid:])\n",
    "\n",
    "    return leftSide + rightSide\n",
    "\n",
    "print(findEven(lst))"
   ]
  },
  {
   "cell_type": "code",
   "execution_count": 5,
   "metadata": {},
   "outputs": [
    {
     "name": "stdout",
     "output_type": "stream",
     "text": [
      "7\n"
     ]
    }
   ],
   "source": [
    "def findMax(lst):\n",
    "    if len(lst) == 1:\n",
    "        return lst[0]\n",
    "    \n",
    "    mid = len(lst)//2\n",
    "    leftSide = findMax(lst[:mid])\n",
    "    rightSide = findMax(lst[mid:])\n",
    "\n",
    "    if leftSide > rightSide:\n",
    "        return leftSide\n",
    "    else:\n",
    "        return rightSide\n",
    "    \n",
    "print(findMax(lst))"
   ]
  },
  {
   "cell_type": "code",
   "execution_count": null,
   "metadata": {},
   "outputs": [],
   "source": []
  }
 ],
 "metadata": {
  "kernelspec": {
   "display_name": "Python 3",
   "language": "python",
   "name": "python3"
  },
  "language_info": {
   "codemirror_mode": {
    "name": "ipython",
    "version": 3
   },
   "file_extension": ".py",
   "mimetype": "text/x-python",
   "name": "python",
   "nbconvert_exporter": "python",
   "pygments_lexer": "ipython3",
   "version": "3.12.8"
  }
 },
 "nbformat": 4,
 "nbformat_minor": 2
}
