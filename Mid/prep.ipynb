{
 "cells": [
  {
   "cell_type": "markdown",
   "metadata": {},
   "source": [
    "CanSum"
   ]
  },
  {
   "cell_type": "code",
   "execution_count": 28,
   "metadata": {},
   "outputs": [
    {
     "name": "stdout",
     "output_type": "stream",
     "text": [
      "True\n"
     ]
    }
   ],
   "source": [
    "# coins = [4, 6, 13, 17]\n",
    "coins = [7, 14]\n",
    "memo = [[-1 for i in range(len(coins))] for _ in range(1000)]\n",
    "\n",
    "def canSum(tarnum, coinindex):\n",
    "    if memo[tarnum][coinindex] != -1:\n",
    "        return memo[tarnum][coinindex]\n",
    "    if tarnum == 0:\n",
    "        return True\n",
    "    if tarnum < 0 or coinindex < 0:\n",
    "        return False\n",
    "    if canSum(tarnum-coins[coinindex], coinindex) or canSum(tarnum, coinindex-1):\n",
    "        return True\n",
    "    return False\n",
    "\n",
    "\n",
    "# print(canSum(25, 3))\n",
    "# print(canSum(11, 3))\n",
    "# print(canSum(12, 3))\n",
    "# print(canSum(40, 3))\n",
    "# print(canSum(47, 3))\n",
    "# print(canSum(300, 3))\n",
    "print(canSum(0, 1))"
   ]
  },
  {
   "cell_type": "code",
   "execution_count": 32,
   "metadata": {},
   "outputs": [
    {
     "name": "stdout",
     "output_type": "stream",
     "text": [
      "False\n"
     ]
    }
   ],
   "source": [
    "coins = [7, 15]\n",
    "memo = [-1 for i in range(100)]\n",
    "\n",
    "def canSum(target):\n",
    "    if memo[target] != -1:\n",
    "        return memo[target]\n",
    "    if target == 0:\n",
    "        return True\n",
    "    if target < 0:\n",
    "        return False\n",
    "    flag = False\n",
    "    for coin in coins:\n",
    "        flag = flag or canSum(target-coin)\n",
    "    memo[target] = flag\n",
    "    return flag\n",
    "\n",
    "print(canSum(23))"
   ]
  },
  {
   "cell_type": "code",
   "execution_count": 35,
   "metadata": {},
   "outputs": [
    {
     "name": "stdout",
     "output_type": "stream",
     "text": [
      "2\n"
     ]
    }
   ],
   "source": [
    "coins = [7, 15]\n",
    "memo = [-1 for i in range(100)]\n",
    "\n",
    "def canSum(target):\n",
    "    if memo[target] != -1:\n",
    "        return memo[target]\n",
    "    if target == 0:\n",
    "        return 1\n",
    "    if target < 0:\n",
    "        return 0\n",
    "    flag = 0\n",
    "    for coin in coins:\n",
    "        flag = flag + canSum(target-coin)\n",
    "    memo[target] = flag\n",
    "    return flag\n",
    "\n",
    "print(canSum(22))"
   ]
  }
 ],
 "metadata": {
  "kernelspec": {
   "display_name": "Python 3",
   "language": "python",
   "name": "python3"
  },
  "language_info": {
   "codemirror_mode": {
    "name": "ipython",
    "version": 3
   },
   "file_extension": ".py",
   "mimetype": "text/x-python",
   "name": "python",
   "nbconvert_exporter": "python",
   "pygments_lexer": "ipython3",
   "version": "3.11.5"
  }
 },
 "nbformat": 4,
 "nbformat_minor": 2
}
