{
 "cells": [
  {
   "cell_type": "markdown",
   "metadata": {},
   "source": [
    "# Dynamic Programing"
   ]
  },
  {
   "cell_type": "markdown",
   "metadata": {},
   "source": [
    "### Fibonacci"
   ]
  },
  {
   "cell_type": "code",
   "execution_count": null,
   "metadata": {},
   "outputs": [
    {
     "name": "stdout",
     "output_type": "stream",
     "text": [
      "5\n"
     ]
    }
   ],
   "source": [
    "def fib(n):\n",
    "    if n<= 1:\n",
    "        # return 1 #1 dile 1,1,2,3,5,... hobe\n",
    "        return n # n dile 0,1,1,2,3,5,... hobe\n",
    "    return fib(n-1) + fib(n-2)\n",
    "print(fib(5))"
   ]
  },
  {
   "cell_type": "code",
   "execution_count": 2,
   "metadata": {},
   "outputs": [
    {
     "name": "stdout",
     "output_type": "stream",
     "text": [
      "5\n"
     ]
    }
   ],
   "source": [
    "memoization_table = [-1 for i in range(50)]\n",
    "\n",
    "def fib(n):\n",
    "    #Memoization Step\n",
    "    if memoization_table[n] != -1:\n",
    "        return memoization_table[n]\n",
    "    #Base Case\n",
    "    if n <= 1:\n",
    "        return n\n",
    "    \n",
    "    #Recursive Step\n",
    "    memoization_table[n] = fib(n-1) + fib(n-2)\n",
    "    return memoization_table[n]\n",
    "\n",
    "print(fib(5))"
   ]
  }
 ],
 "metadata": {
  "kernelspec": {
   "display_name": "Python 3",
   "language": "python",
   "name": "python3"
  },
  "language_info": {
   "codemirror_mode": {
    "name": "ipython",
    "version": 3
   },
   "file_extension": ".py",
   "mimetype": "text/x-python",
   "name": "python",
   "nbconvert_exporter": "python",
   "pygments_lexer": "ipython3",
   "version": "3.12.8"
  }
 },
 "nbformat": 4,
 "nbformat_minor": 2
}
