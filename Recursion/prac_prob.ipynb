{
 "cells": [
  {
   "cell_type": "markdown",
   "metadata": {},
   "source": [
    "### Common problems "
   ]
  },
  {
   "cell_type": "markdown",
   "metadata": {},
   "source": [
    "1. Write a recursive implementation of the factorial function. Recall that 𝑛! = 1×2×…×𝑛\n",
    "with the special case that 0! = 1.\n"
   ]
  },
  {
   "cell_type": "code",
   "execution_count": 1,
   "metadata": {},
   "outputs": [
    {
     "name": "stdout",
     "output_type": "stream",
     "text": [
      "24\n"
     ]
    }
   ],
   "source": [
    "def fact(n):\n",
    "    if n == 0:\n",
    "        return 1\n",
    "    else:\n",
    "        return n*fact(n-1)\n",
    "    \n",
    "print(fact(4))"
   ]
  },
  {
   "cell_type": "code",
   "execution_count": 1,
   "metadata": {},
   "outputs": [
    {
     "name": "stdout",
     "output_type": "stream",
     "text": [
      "120\n"
     ]
    }
   ],
   "source": [
    "def fact(n):\n",
    "    if n == 0:\n",
    "        return 1\n",
    "    else:\n",
    "        return n * fact(n-1)\n",
    "    \n",
    "print(fact(5))"
   ]
  },
  {
   "cell_type": "markdown",
   "metadata": {},
   "source": [
    "2. Write a recursive program to calculate the power of x(x^y), where y is a non-negative integer."
   ]
  },
  {
   "cell_type": "code",
   "execution_count": 2,
   "metadata": {},
   "outputs": [
    {
     "name": "stdout",
     "output_type": "stream",
     "text": [
      "8\n"
     ]
    }
   ],
   "source": [
    "def power(x,y):\n",
    "    if y == 0:\n",
    "        return 1\n",
    "    else:\n",
    "        return x* power(x, y-1)\n",
    "    \n",
    "print(power(2, 3))"
   ]
  },
  {
   "cell_type": "markdown",
   "metadata": {},
   "source": [
    "3. Write a recursive program to print the nth Fibonacci number. "
   ]
  },
  {
   "cell_type": "code",
   "execution_count": 5,
   "metadata": {},
   "outputs": [
    {
     "name": "stdout",
     "output_type": "stream",
     "text": [
      "5\n"
     ]
    }
   ],
   "source": [
    "def fibo(n):\n",
    "    if n <= 1:\n",
    "        return n\n",
    "    else:\n",
    "        return fibo(n-1) + fibo(n-2)\n",
    "    \n",
    "print(fibo(5))"
   ]
  },
  {
   "cell_type": "markdown",
   "metadata": {},
   "source": [
    "4. Write a recursive program to check if a given string is a palindrome or not (not case \n",
    "sensitive, ignore whitespaces) \n",
    "Sample input  | Sample output\n",
    "______________________________\n",
    "Evil olive    | True \n",
    "Too bad       | False"
   ]
  },
  {
   "cell_type": "code",
   "execution_count": 16,
   "metadata": {},
   "outputs": [
    {
     "name": "stdout",
     "output_type": "stream",
     "text": [
      "True\n",
      "False\n"
     ]
    }
   ],
   "source": [
    "def palindromic(text):\n",
    "    text = text.lower()\n",
    "    text = text.replace(\" \", \"\")\n",
    "    # print(text)\n",
    "    if len(text) == 1:\n",
    "        return True\n",
    "    else:\n",
    "        return (text[0] == text[-1]) and (palindromic(text[1:-1]))\n",
    "\n",
    "print(palindromic(\"Evil olive\"))\n",
    "print(palindromic(\"Too bad\"))"
   ]
  },
  {
   "cell_type": "markdown",
   "metadata": {},
   "source": [
    "5"
   ]
  },
  {
   "cell_type": "code",
   "execution_count": 21,
   "metadata": {},
   "outputs": [
    {
     "name": "stdout",
     "output_type": "stream",
     "text": [
      "4 6 8 10 "
     ]
    }
   ],
   "source": [
    "def even(low, high):\n",
    "    if low > high:\n",
    "        return\n",
    "    else:\n",
    "        if low % 2 == 0:\n",
    "            print(low, end=\" \")\n",
    "        even(low +1, high)\n",
    "    \n",
    "even(3, 10)"
   ]
  },
  {
   "cell_type": "markdown",
   "metadata": {},
   "source": [
    "6. Write a recursive program to print an array of size n in given order. \n",
    "7. Write a recursive program to print an array of size n in reverse order. "
   ]
  },
  {
   "cell_type": "code",
   "execution_count": 25,
   "metadata": {},
   "outputs": [
    {
     "name": "stdout",
     "output_type": "stream",
     "text": [
      "1, 2, 3, 4, 5\n"
     ]
    }
   ],
   "source": [
    "lst = [1, 2,3,4,5]\n",
    "\n",
    "def prnt_lst(lst):\n",
    "    if len(lst) == 1:\n",
    "        print(lst[0])\n",
    "        \n",
    "    else:\n",
    "        print(lst[0], end=\", \")\n",
    "        prnt_lst(lst[1:])\n",
    "\n",
    "prnt_lst(lst)"
   ]
  },
  {
   "cell_type": "code",
   "execution_count": 24,
   "metadata": {},
   "outputs": [
    {
     "name": "stdout",
     "output_type": "stream",
     "text": [
      "5, 4, 3, 2, 1\n"
     ]
    }
   ],
   "source": [
    "lst = [1, 2,3,4,5]\n",
    "\n",
    "def prnt_lst(lst):\n",
    "    if len(lst) == 1:\n",
    "        print(lst[0])\n",
    "        \n",
    "    else:\n",
    "        print(lst[-1], end=\", \")\n",
    "        prnt_lst(lst[:-1])\n",
    "\n",
    "prnt_lst(lst)"
   ]
  },
  {
   "cell_type": "markdown",
   "metadata": {},
   "source": [
    "8. Write a recursive program to find the sum of the elements of an array of size n. \n",
    "9. Write a recursive program to find the products of the elements of an array of size n."
   ]
  },
  {
   "cell_type": "code",
   "execution_count": 26,
   "metadata": {},
   "outputs": [
    {
     "name": "stdout",
     "output_type": "stream",
     "text": [
      "15\n"
     ]
    }
   ],
   "source": [
    "lst = [1, 2,3,4,5]\n",
    "\n",
    "def sum_lst(lst):\n",
    "    if len(lst) == 1:\n",
    "        return lst[0]\n",
    "    else: return lst[0] + sum_lst(lst[1:])\n",
    "\n",
    "print(sum_lst(lst))"
   ]
  },
  {
   "cell_type": "code",
   "execution_count": 27,
   "metadata": {},
   "outputs": [
    {
     "name": "stdout",
     "output_type": "stream",
     "text": [
      "120\n"
     ]
    }
   ],
   "source": [
    "lst = [1, 2,3,4,5]\n",
    "\n",
    "def prod_lst(lst):\n",
    "    if len(lst) == 1:\n",
    "        return lst[0]\n",
    "    else: return lst[0] * prod_lst(lst[1:])\n",
    "\n",
    "print(prod_lst(lst))"
   ]
  },
  {
   "cell_type": "markdown",
   "metadata": {},
   "source": [
    "10. Write a recursive program to find the maximum of the elements of an array of size n. \n",
    "11. Write a recursive program to find the minimum of the elements of an array of size n \n",
    "12. Write a recursive program to find the average of the elements of an array of size n"
   ]
  },
  {
   "cell_type": "code",
   "execution_count": 28,
   "metadata": {},
   "outputs": [
    {
     "name": "stdout",
     "output_type": "stream",
     "text": [
      "5\n"
     ]
    }
   ],
   "source": [
    "def maxi(lst):\n",
    "    if len(lst) == 1:\n",
    "        return lst[0]\n",
    "    else:\n",
    "        x = maxi(lst[:-1])\n",
    "        y = lst[-1]\n",
    "        return x if x >y else y\n",
    "    \n",
    "print(maxi(lst))"
   ]
  },
  {
   "cell_type": "code",
   "execution_count": 29,
   "metadata": {},
   "outputs": [
    {
     "name": "stdout",
     "output_type": "stream",
     "text": [
      "1\n"
     ]
    }
   ],
   "source": [
    "def mini(lst):\n",
    "    if len(lst) == 1:\n",
    "        return lst[0]\n",
    "    else:\n",
    "        x = mini(lst[:-1])\n",
    "        y = lst[-1]\n",
    "        return x if x <y else y\n",
    "    \n",
    "print(mini(lst))"
   ]
  },
  {
   "cell_type": "code",
   "execution_count": 31,
   "metadata": {},
   "outputs": [
    {
     "name": "stdout",
     "output_type": "stream",
     "text": [
      "0.425\n"
     ]
    }
   ],
   "source": [
    "def avar(lst):\n",
    "    if len(lst) == 1:\n",
    "        return lst[0]\n",
    "    else:\n",
    "        return (lst[0] + avar(lst[1:])) / len(lst)\n",
    "    \n",
    "print(avar(lst))"
   ]
  }
 ],
 "metadata": {
  "kernelspec": {
   "display_name": "Python 3",
   "language": "python",
   "name": "python3"
  },
  "language_info": {
   "codemirror_mode": {
    "name": "ipython",
    "version": 3
   },
   "file_extension": ".py",
   "mimetype": "text/x-python",
   "name": "python",
   "nbconvert_exporter": "python",
   "pygments_lexer": "ipython3",
   "version": "3.12.8"
  }
 },
 "nbformat": 4,
 "nbformat_minor": 2
}
