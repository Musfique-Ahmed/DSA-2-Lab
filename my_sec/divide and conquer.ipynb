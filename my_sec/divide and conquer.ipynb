{
 "cells": [
  {
   "cell_type": "code",
   "execution_count": 1,
   "metadata": {},
   "outputs": [],
   "source": [
    "#Recursion\n",
    "def listSum(arr):\n",
    "    if len(arr) == 1:\n",
    "        return arr[0]\n",
    "    return arr[-1] + listSum(arr[:-1])"
   ]
  },
  {
   "cell_type": "code",
   "execution_count": 2,
   "metadata": {},
   "outputs": [
    {
     "name": "stdout",
     "output_type": "stream",
     "text": [
      "21\n"
     ]
    }
   ],
   "source": [
    "# Divide and Conquer\n",
    "def listSum(arr):\n",
    "    if len(arr) == 1:\n",
    "        return arr[0]\n",
    "    mid = len(arr)//2\n",
    "    leftSum = listSum(arr[:mid])\n",
    "    rightSum = listSum(arr[mid:])\n",
    "    return leftSum + rightSum\n",
    "\n",
    "print(listSum([1, 2, 3, 4, 5, 6]))"
   ]
  },
  {
   "cell_type": "code",
   "execution_count": 3,
   "metadata": {},
   "outputs": [],
   "source": [
    "def countEven(arr):\n",
    "    if len(arr) == 1:\n",
    "        return 1 if arr[0]%2 == 0 else 0\n",
    "    mid = len(arr)//2\n",
    "    return countEven(arr[:mid]) + countEven(arr[mid:])"
   ]
  },
  {
   "cell_type": "code",
   "execution_count": 7,
   "metadata": {},
   "outputs": [
    {
     "name": "stdout",
     "output_type": "stream",
     "text": [
      "(6, 5)\n"
     ]
    }
   ],
   "source": [
    "def findSecondMax(arr):\n",
    "    if len(arr) == 1:\n",
    "        return arr[0], -10000000\n",
    "    mid = len(arr)//2\n",
    "    leftMax, left2max = findSecondMax(arr[:mid])\n",
    "    rightMax, right2max = findSecondMax(arr[mid:])\n",
    "    totalMax = max(leftMax, rightMax)\n",
    "    total2Max = max(left2max, right2max, min(leftMax, rightMax))\n",
    "    return totalMax, total2Max\n",
    "\n",
    "print(findSecondMax([1, 2, 4, 3, 5, 6]))"
   ]
  },
  {
   "cell_type": "code",
   "execution_count": 9,
   "metadata": {},
   "outputs": [
    {
     "name": "stdout",
     "output_type": "stream",
     "text": [
      "6.0000059604644775\n"
     ]
    }
   ],
   "source": [
    "def sqrt(n, low, high):\n",
    "    if high - low < .00001:\n",
    "        return high\n",
    "    mid = (high + low)/2\n",
    "    if mid*mid > n:\n",
    "        return sqrt(n, low, mid)\n",
    "    return sqrt(n, mid, high)\n",
    "\n",
    "print(sqrt(36, 1, 36))"
   ]
  },
  {
   "cell_type": "code",
   "execution_count": 10,
   "metadata": {},
   "outputs": [],
   "source": [
    "#Brute force\n",
    "def maxSubarraySum(arr):\n",
    "    maxSum = -1000000\n",
    "    for start in range(len(arr)):\n",
    "        for end in range(start, len(arr)):\n",
    "            s = 0\n",
    "            for n in arr[start: end+1]:\n",
    "                s += n\n",
    "            maxSum = max(maxSum, s)\n",
    "    return maxSum"
   ]
  },
  {
   "cell_type": "code",
   "execution_count": 12,
   "metadata": {},
   "outputs": [
    {
     "name": "stdout",
     "output_type": "stream",
     "text": [
      "8\n"
     ]
    }
   ],
   "source": [
    "#Divide and conquer\n",
    "def crossingSum(arr):\n",
    "    mid = len(arr)//2\n",
    "    s, leftMax = 0, -100000000\n",
    "    for i in range(mid, -1, -1):\n",
    "        s += arr[i]\n",
    "        leftMax = max(leftMax, s)\n",
    "    s, rightMax = 0, -100000000\n",
    "    for i in range(mid+1, len(arr)):\n",
    "        s += arr[i]\n",
    "        rightMax = max(rightMax, s)\n",
    "    return leftMax + rightMax\n",
    "def maxSubarraySum(arr):\n",
    "    if len(arr) == 1:\n",
    "        return arr[0]\n",
    "    mid = len(arr)//2\n",
    "    leftHalfMax = maxSubarraySum(arr[:mid])\n",
    "    rightHalfMax = maxSubarraySum(arr[mid:])\n",
    "    crossingMax = crossingSum(arr)\n",
    "    return max(leftHalfMax, rightHalfMax, crossingMax)\n",
    "\n",
    "print(maxSubarraySum([-1, 2, 4, -5, 7, -3]))"
   ]
  },
  {
   "cell_type": "code",
   "execution_count": null,
   "metadata": {},
   "outputs": [],
   "source": []
  }
 ],
 "metadata": {
  "kernelspec": {
   "display_name": "Python 3",
   "language": "python",
   "name": "python3"
  },
  "language_info": {
   "codemirror_mode": {
    "name": "ipython",
    "version": 3
   },
   "file_extension": ".py",
   "mimetype": "text/x-python",
   "name": "python",
   "nbconvert_exporter": "python",
   "pygments_lexer": "ipython3",
   "version": "3.11.5"
  }
 },
 "nbformat": 4,
 "nbformat_minor": 2
}
