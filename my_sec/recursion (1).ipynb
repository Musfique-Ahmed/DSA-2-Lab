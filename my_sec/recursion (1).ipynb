{
 "cells": [
  {
   "cell_type": "code",
   "execution_count": 2,
   "metadata": {},
   "outputs": [
    {
     "name": "stdout",
     "output_type": "stream",
     "text": [
      "120\n"
     ]
    }
   ],
   "source": [
    "n = int(input())\n",
    "def factorial(n):\n",
    "    if n == 0:\n",
    "        return 1\n",
    "    return n*factorial(n-1)\n",
    "print(factorial(n))"
   ]
  },
  {
   "cell_type": "code",
   "execution_count": 3,
   "metadata": {},
   "outputs": [
    {
     "name": "stdout",
     "output_type": "stream",
     "text": [
      "55\n"
     ]
    }
   ],
   "source": [
    "n = 5\n",
    "def calc(n):\n",
    "    if n == 1:\n",
    "        return 1\n",
    "    return n**2 + calc(n-1)\n",
    "print(calc(5))"
   ]
  },
  {
   "cell_type": "code",
   "execution_count": 4,
   "metadata": {},
   "outputs": [
    {
     "name": "stdout",
     "output_type": "stream",
     "text": [
      "1\n"
     ]
    }
   ],
   "source": [
    "arr = [6, 1, 5, 8, 4, 2]\n",
    "def findMin(arr):\n",
    "    if len(arr) == 1:\n",
    "        return arr[0]\n",
    "    x = findMin(arr[:-1])\n",
    "    y = arr[-1]\n",
    "    return x if x < y else y\n",
    "print(findMin(arr))"
   ]
  },
  {
   "cell_type": "code",
   "execution_count": 7,
   "metadata": {},
   "outputs": [
    {
     "name": "stdout",
     "output_type": "stream",
     "text": [
      "False\n"
     ]
    }
   ],
   "source": [
    "s1 = \"racecar\"\n",
    "s2 = \"abda\"\n",
    "def isPalindrome(s):\n",
    "    if len(s) <= 1:\n",
    "        return True\n",
    "    return (s[0] == s[-1]) and isPalindrome(s[1:-1])\n",
    "print(isPalindrome(s2))"
   ]
  },
  {
   "cell_type": "code",
   "execution_count": null,
   "metadata": {},
   "outputs": [
    {
     "name": "stdout",
     "output_type": "stream",
     "text": [
      "9\n"
     ]
    }
   ],
   "source": [
    "x = 540\n",
    "def digitSum(x):\n",
    "    if x == 0:\n",
    "        return 0\n",
    "    return x%10 + digitSum(x//10)\n",
    "print(digitSum(x))"
   ]
  },
  {
   "cell_type": "code",
   "execution_count": 10,
   "metadata": {},
   "outputs": [
    {
     "name": "stdout",
     "output_type": "stream",
     "text": [
      "145"
     ]
    }
   ],
   "source": [
    "n = 541\n",
    "def reverseNum(n):\n",
    "    if n == 0:\n",
    "        return\n",
    "    print(n%10, end=\"\")\n",
    "    reverseNum(n//10)\n",
    "reverseNum(n)\n"
   ]
  },
  {
   "cell_type": "code",
   "execution_count": null,
   "metadata": {},
   "outputs": [
    {
     "name": "stdout",
     "output_type": "stream",
     "text": [
      "1024\n"
     ]
    }
   ],
   "source": [
    "def exp(b, n):\n",
    "    if n == 0:\n",
    "        return 1\n",
    "    return b * exp(b, n-1)\n",
    "print(exp(2, 10))\n",
    "# Time complexity O(n)"
   ]
  },
  {
   "cell_type": "code",
   "execution_count": 15,
   "metadata": {},
   "outputs": [
    {
     "name": "stdout",
     "output_type": "stream",
     "text": [
      "243\n"
     ]
    }
   ],
   "source": [
    "def fastExp(b, n):\n",
    "    if n == 0:\n",
    "        return 1\n",
    "    prod = fastExp(b, n//2)\n",
    "    prod *= prod\n",
    "    if n % 2 == 1:\n",
    "        prod *= b\n",
    "    return prod\n",
    "print(fastExp(3, 5))"
   ]
  },
  {
   "cell_type": "code",
   "execution_count": null,
   "metadata": {},
   "outputs": [
    {
     "name": "stdout",
     "output_type": "stream",
     "text": [
      "847660528\n"
     ]
    }
   ],
   "source": [
    "def combination(n, r):\n",
    "    #CODE HERE\n",
    "    if r == 0 or n == r:\n",
    "        return 1\n",
    "    return combination(n-1, r) + combination(n-1, r-1)\n",
    "print(combination(40, 10))"
   ]
  },
  {
   "cell_type": "code",
   "execution_count": null,
   "metadata": {},
   "outputs": [],
   "source": []
  }
 ],
 "metadata": {
  "kernelspec": {
   "display_name": "Python 3",
   "language": "python",
   "name": "python3"
  },
  "language_info": {
   "codemirror_mode": {
    "name": "ipython",
    "version": 3
   },
   "file_extension": ".py",
   "mimetype": "text/x-python",
   "name": "python",
   "nbconvert_exporter": "python",
   "pygments_lexer": "ipython3",
   "version": "3.11.5"
  }
 },
 "nbformat": 4,
 "nbformat_minor": 2
}
