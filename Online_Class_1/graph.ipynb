{
 "cells": [
  {
   "cell_type": "code",
   "execution_count": 6,
   "id": "17878efd",
   "metadata": {},
   "outputs": [
    {
     "name": "stdout",
     "output_type": "stream",
     "text": [
      "(3, 4, 2)\n",
      "(1, 4, 3)\n",
      "(3, 2, 3)\n",
      "(1, 3, 4)\n",
      "(2, 5, 4)\n",
      "(1, 2, 5)\n",
      "(0, 1, 6)\n"
     ]
    }
   ],
   "source": [
    "#n, m = map(int, input().split())\n",
    "\n",
    "adjMat = [[0 for _ in range(n)] for _ in range(n)]\n",
    "adjList = {}\n",
    "edgeList = [(0, 1, 6),\n",
    "            (1, 3, 4),\n",
    "            (1, 4, 3),\n",
    "            (3, 4, 2),\n",
    "            (3, 2, 3),\n",
    "            (1, 2, 5),\n",
    "            (2, 5, 4)]\n",
    "\n",
    "def compare(t):\n",
    "    return t[2]\n",
    "\n",
    "# for _ in range(m):\n",
    "#     u, v, w = map(int, input().split())\n",
    "#     edgeList.append((u, v, w))\n",
    "    # adjMat[u][v] = w\n",
    "    # adjMat[v][u] = w\n",
    "    # if u not in adjList.keys():\n",
    "    #     adjList[u] = []\n",
    "    # if v not in adjList.keys():\n",
    "    #     adjList[v] = []\n",
    "    # adjList[u].append((v, w))\n",
    "    # adjList[v].append((u, w))\n",
    "edgeList = sorted(edgeList, key = compare)\n",
    "print(*edgeList, sep=\"\\n\")"
   ]
  },
  {
   "cell_type": "code",
   "execution_count": null,
   "id": "0ae8abe2",
   "metadata": {},
   "outputs": [],
   "source": [
    "#Partial implementation of Kruskal\n",
    "n, m = map(int, input().split())\n",
    "\n",
    "adjMat = [[0 for _ in range(n)] for _ in range(n)]\n",
    "adjList = {}\n",
    "edgeList = []\n",
    "\n",
    "def compare(t):\n",
    "    return t[2]\n",
    "\n",
    "for _ in range(m):\n",
    "    u, v, w = map(int, input().split())\n",
    "    edgeList.append((u, v, w))\n",
    "edgeList = sorted(edgeList, key = compare)\n",
    "\n",
    "\n",
    "parent = [-1 for i in range(n)]\n",
    "def makeSet(u):\n",
    "    parent[u] = u\n",
    "def findSet(u):\n",
    "    if parent[u] == u:\n",
    "        return u\n",
    "    parent[u] = findSet(parent[u])\n",
    "    return parent[u]\n",
    "def join(u, v):\n",
    "    u = findSet(u)\n",
    "    v = findSet(v)\n",
    "    parent[u] = v\n",
    "\n",
    "totalCost = 0\n",
    "for i in range(n):\n",
    "    makeSet(i)\n",
    "for edge in edgeList:\n",
    "    u, v, w = edge\n",
    "    if findSet(u) != findSet(v):\n",
    "        join(u, v)\n",
    "        totalCost += w\n"
   ]
  }
 ],
 "metadata": {
  "kernelspec": {
   "display_name": "Python 3",
   "language": "python",
   "name": "python3"
  },
  "language_info": {
   "codemirror_mode": {
    "name": "ipython",
    "version": 3
   },
   "file_extension": ".py",
   "mimetype": "text/x-python",
   "name": "python",
   "nbconvert_exporter": "python",
   "pygments_lexer": "ipython3",
   "version": "3.11.5"
  }
 },
 "nbformat": 4,
 "nbformat_minor": 5
}
