{
 "cells": [
  {
   "cell_type": "code",
   "execution_count": null,
   "id": "886458ed",
   "metadata": {},
   "outputs": [],
   "source": [
    "\n",
    "\n",
    "visited = []\n",
    "parent = []\n",
    "\n",
    "def dijkstra(graph, sorce):\n",
    "    for node in graph:\n",
    "        new_cost = node.prev.cost + node.dist\n",
    "        if new_cost < node.cost:\n",
    "            node.cost = new_cost\n",
    "\n",
    "        visited.append(node)\n",
    "        parent.append((node, node.prev))\n",
    "\n",
    "# minimum cost negihbor ber korar jonno min-heap use korbo\n",
    "\n"
   ]
  },
  {
   "cell_type": "code",
   "execution_count": null,
   "id": "be795755",
   "metadata": {},
   "outputs": [],
   "source": [
    "import sys\n",
    "\n",
    "from heapq import heapify, heappush, heappop\n",
    "\n",
    "def dijsktra(graph, src, dest):\n",
    "    inf = 10000000000000000000000000000000\n",
    "\n",
    "    node_data = {\n",
    "         \"A\": {'cost':inf, 'pred':[]},\n",
    "         \"B\": {'cost':inf, 'pred':[]},\n",
    "         \"C\": {'cost':inf, 'pred':[]},\n",
    "         \"D\": {'cost':inf, 'pred':[]},\n",
    "         \"E\": {'cost':inf, 'pred':[]},\n",
    "         \"F\": {'cost':inf, 'pred':[]}\n",
    "    }\n",
    "\n",
    "    node_data[src]['cost'] = 0\n",
    "\n",
    "    visited = []\n",
    "\n",
    "    temp = src\n",
    "\n",
    "    for i in range(5): # vertex - 1\n",
    "        \n",
    "\n",
    "\n",
    "if __name__ == \"__main__\":\n",
    "     graph = {\n",
    "          \"A\": {\"B\":2, \"C\":34},\n",
    "          \"B\": {\"A\":2, \"C\":3, \"D\":8},\n",
    "          \"C\": {\"A\":4, \"B\":3, \"E\":5 ,\"D\":2},\n",
    "          \"D\": {\"B\":8, \"C\":2, \"E\":11, \"F\":22},\n",
    "          \"E\": {\"C\":5, \"D\":11, \"F\":1},\n",
    "          \"F\": {\"D\":22, \"E\":1}\n",
    "          }\n",
    "     \n",
    "     source = \"A\"\n",
    "     destination = \"F\"\n",
    "     dijkstra(graph, source, destination)"
   ]
  }
 ],
 "metadata": {
  "language_info": {
   "name": "python"
  }
 },
 "nbformat": 4,
 "nbformat_minor": 5
}
