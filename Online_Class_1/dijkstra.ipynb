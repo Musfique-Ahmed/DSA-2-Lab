{
 "cells": [
  {
   "cell_type": "code",
   "execution_count": 16,
   "id": "886458ed",
   "metadata": {},
   "outputs": [],
   "source": [
    "\n",
    "\n",
    "visited = []\n",
    "parent = []\n",
    "\n",
    "def dijkstra(graph, sorce):\n",
    "    for node in graph:\n",
    "        new_cost = node.prev.cost + node.dist\n",
    "        if new_cost < node.cost:\n",
    "            node.cost = new_cost\n",
    "\n",
    "        visited.append(node)\n",
    "        parent.append((node, node.prev))\n",
    "\n",
    "# minimum cost negihbor ber korar jonno min-heap use korbo\n",
    "\n"
   ]
  },
  {
   "cell_type": "code",
   "execution_count": 17,
   "id": "be795755",
   "metadata": {},
   "outputs": [
    {
     "name": "stdout",
     "output_type": "stream",
     "text": [
      "Shortest Distance: 11\n",
      "Shortest Path: ['A', 'B', 'C', 'E', 'F']\n"
     ]
    }
   ],
   "source": [
    "import sys\n",
    "\n",
    "from heapq import heapify, heappush, heappop\n",
    "\n",
    "def dijsktra(graph, src, dest):\n",
    "     inf = 10000000000000000000000000000000\n",
    "\n",
    "     node_data = {\n",
    "          \"A\": {'cost':inf, 'pred':[]},\n",
    "          \"B\": {'cost':inf, 'pred':[]},\n",
    "          \"C\": {'cost':inf, 'pred':[]},\n",
    "          \"D\": {'cost':inf, 'pred':[]},\n",
    "          \"E\": {'cost':inf, 'pred':[]},\n",
    "          \"F\": {'cost':inf, 'pred':[]}\n",
    "     }\n",
    "\n",
    "     node_data[src]['cost'] = 0\n",
    "\n",
    "     visited = []\n",
    "\n",
    "     temp = src #a\n",
    "\n",
    "     for _ in range(5): # no_of_vertex - 1\n",
    "          if temp not in visited:\n",
    "               visited.append(temp)\n",
    "               min_heap = []\n",
    "               for j in graph[temp]: # loops over the dictionary of the node's neighbor\n",
    "                    if j not in visited:\n",
    "                         cost = node_data[temp]['cost'] + graph[temp][j]\n",
    "                         if node_data[j]['cost'] > cost:\n",
    "                             node_data[j]['cost'] = cost\n",
    "                             node_data[j]['pred'] = node_data[temp]['pred'] + list(temp)\n",
    "                         heappush(min_heap, (node_data[j]['cost'], j))\n",
    "\n",
    "               heapify(min_heap)\n",
    "               temp = min_heap[0][1]\n",
    "\n",
    "\n",
    "     print(f\"Shortest Distance: {node_data[dest][\"cost\"]}\")\n",
    "     print(f\"Shortest Path: {node_data[dest][\"pred\"] + list(dest)}\")\n",
    "# NCP Jindabad\n",
    "\n",
    "if __name__ == \"__main__\":\n",
    "     graph = {\n",
    "          \"A\": {\"B\":2, \"C\":34},\n",
    "          \"B\": {\"A\":2, \"C\":3, \"D\":8},\n",
    "          \"C\": {\"A\":4, \"B\":3, \"E\":5 ,\"D\":2},\n",
    "          \"D\": {\"B\":8, \"C\":2, \"E\":11, \"F\":22},\n",
    "          \"E\": {\"C\":5, \"D\":11, \"F\":1},\n",
    "          \"F\": {\"D\":22, \"E\":1}\n",
    "          }\n",
    "     \n",
    "     source = \"A\"\n",
    "     destination = \"F\"\n",
    "     dijsktra(graph, source, destination)"
   ]
  },
  {
   "cell_type": "code",
   "execution_count": 21,
   "id": "19bcd75c",
   "metadata": {},
   "outputs": [
    {
     "name": "stdout",
     "output_type": "stream",
     "text": [
      "Iteration: 1\n",
      "{'A': {'cost': 0, 'pred': []}, 'B': {'cost': 2, 'pred': ['A', 'C']}, 'C': {'cost': 3, 'pred': ['A', 'D']}, 'D': {'cost': 5, 'pred': ['A']}, 'E': {'cost': 5, 'pred': ['A', 'B']}, 'F': {'cost': 4, 'pred': ['A', 'D']}}\n",
      "Iteration: 2\n",
      "{'A': {'cost': 0, 'pred': []}, 'B': {'cost': 1, 'pred': ['A', 'D', 'C']}, 'C': {'cost': 3, 'pred': ['A', 'D']}, 'D': {'cost': 5, 'pred': ['A']}, 'E': {'cost': 1, 'pred': ['A', 'C', 'B']}, 'F': {'cost': 4, 'pred': ['A', 'D']}}\n",
      "Iteration: 3\n",
      "{'A': {'cost': 0, 'pred': []}, 'B': {'cost': 1, 'pred': ['A', 'D', 'C']}, 'C': {'cost': 3, 'pred': ['A', 'D']}, 'D': {'cost': 5, 'pred': ['A']}, 'E': {'cost': 0, 'pred': ['A', 'D', 'C', 'B']}, 'F': {'cost': 3, 'pred': ['A', 'D', 'C', 'B', 'E']}}\n",
      "Iteration: 4\n",
      "{'A': {'cost': 0, 'pred': []}, 'B': {'cost': 1, 'pred': ['A', 'D', 'C']}, 'C': {'cost': 3, 'pred': ['A', 'D']}, 'D': {'cost': 5, 'pred': ['A']}, 'E': {'cost': 0, 'pred': ['A', 'D', 'C', 'B']}, 'F': {'cost': 3, 'pred': ['A', 'D', 'C', 'B', 'E']}}\n",
      "Iteration: 5\n",
      "{'A': {'cost': 0, 'pred': []}, 'B': {'cost': 1, 'pred': ['A', 'D', 'C']}, 'C': {'cost': 3, 'pred': ['A', 'D']}, 'D': {'cost': 5, 'pred': ['A']}, 'E': {'cost': 0, 'pred': ['A', 'D', 'C', 'B']}, 'F': {'cost': 3, 'pred': ['A', 'D', 'C', 'B', 'E']}}\n",
      "\n",
      "\n",
      "Shortest Distance: 3\n",
      "Shortest Path: ['A', 'D', 'C', 'B', 'E', 'F']\n"
     ]
    }
   ],
   "source": [
    "\n",
    "\n",
    "def bellmanford(graph, src, dest):\n",
    "    inf = 10000000000000000000000000000000\n",
    "\n",
    "    node_data = {\n",
    "        \"A\": {'cost':inf, 'pred':[]},\n",
    "        \"B\": {'cost':inf, 'pred':[]},\n",
    "        \"C\": {'cost':inf, 'pred':[]},\n",
    "        \"D\": {'cost':inf, 'pred':[]},\n",
    "        \"E\": {'cost':inf, 'pred':[]},\n",
    "        \"F\": {'cost':inf, 'pred':[]}\n",
    "    }\n",
    "\n",
    "    node_data[src]['cost'] = 0\n",
    "\n",
    "    for i in range(5):\n",
    "        print(f\"Iteration: {i+1}\")\n",
    "\n",
    "        for itr in graph:\n",
    "            for neighbor in graph[itr]:\n",
    "                cost = node_data[itr]['cost'] + graph[itr][neighbor]\n",
    "                if node_data[neighbor]['cost'] > cost:\n",
    "                    node_data[neighbor]['cost'] = cost\n",
    "                    if node_data[neighbor]['cost'] == inf:\n",
    "                        node_data[neighbor]['pred'] = node_data[itr]['pred'] + list(itr)\n",
    "                    else:\n",
    "                        node_data[neighbor]['pred'].clear()\n",
    "                        node_data[neighbor]['pred'] = node_data[itr]['pred'] + list(itr)\n",
    "\n",
    "                \n",
    "        print(node_data)\n",
    "\n",
    "    print(\"\\n\")\n",
    "    print(f\"Shortest Distance: {node_data[dest][\"cost\"]}\")\n",
    "    print(f\"Shortest Path: {node_data[dest][\"pred\"] + list(dest)}\")\n",
    "    return node_data[dest][\"pred\"] + list(dest)\n",
    "\n",
    "if __name__ == \"__main__\":\n",
    "    graph = {\n",
    "        \"A\": {\"B\":6, \"C\":4, \"D\":5},\n",
    "        \"B\": {\"E\":-1},#, \"A\":-4\n",
    "        \"C\": {\"B\":-2, \"E\":3},\n",
    "        \"D\": {\"C\":-2, \"F\":-1},\n",
    "        \"E\": {\"F\":3},\n",
    "        \"F\": {}\n",
    "        }\n",
    "    \n",
    "    source = \"A\"\n",
    "    destination = \"F\"\n",
    "    parent = bellmanford(graph, source, destination)"
   ]
  },
  {
   "cell_type": "markdown",
   "id": "6e9a2c2e",
   "metadata": {},
   "source": [
    "### Plotting the graph"
   ]
  },
  {
   "cell_type": "code",
   "execution_count": null,
   "id": "b34ba9ff",
   "metadata": {},
   "outputs": [
    {
     "ename": "KeyError",
     "evalue": "0",
     "output_type": "error",
     "traceback": [
      "\u001b[1;31m---------------------------------------------------------------------------\u001b[0m",
      "\u001b[1;31mKeyError\u001b[0m                                  Traceback (most recent call last)",
      "Cell \u001b[1;32mIn[22], line 10\u001b[0m\n\u001b[0;32m      8\u001b[0m \u001b[38;5;28;01mfor\u001b[39;00m u \u001b[38;5;129;01min\u001b[39;00m \u001b[38;5;28mrange\u001b[39m(n):\n\u001b[0;32m      9\u001b[0m     \u001b[38;5;28;01mif\u001b[39;00m parent[u] \u001b[38;5;241m!=\u001b[39m \u001b[38;5;241m-\u001b[39m\u001b[38;5;241m1\u001b[39m:\n\u001b[1;32m---> 10\u001b[0m         G\u001b[38;5;241m.\u001b[39madd_edge(parent[u], u, weight\u001b[38;5;241m=\u001b[39m\u001b[43mgraph\u001b[49m\u001b[43m[\u001b[49m\u001b[43mparent\u001b[49m\u001b[43m[\u001b[49m\u001b[43mu\u001b[49m\u001b[43m]\u001b[49m\u001b[43m]\u001b[49m\u001b[43m[\u001b[49m\u001b[43mu\u001b[49m\u001b[43m]\u001b[49m)\n\u001b[0;32m     11\u001b[0m pos \u001b[38;5;241m=\u001b[39m nx\u001b[38;5;241m.\u001b[39mspring_layout(G)\n\u001b[0;32m     12\u001b[0m nx\u001b[38;5;241m.\u001b[39mdraw(G, pos, with_labels\u001b[38;5;241m=\u001b[39m\u001b[38;5;28;01mTrue\u001b[39;00m, node_size\u001b[38;5;241m=\u001b[39m\u001b[38;5;241m10\u001b[39m, node_color\u001b[38;5;241m=\u001b[39m\u001b[38;5;124m'\u001b[39m\u001b[38;5;124mlightblue\u001b[39m\u001b[38;5;124m'\u001b[39m, font_size\u001b[38;5;241m=\u001b[39m\u001b[38;5;241m10\u001b[39m)\n",
      "\u001b[1;31mKeyError\u001b[0m: 0"
     ]
    }
   ],
   "source": [
    "\n",
    "# import networkx as nx\n",
    "# import matplotlib.pyplot as plt\n",
    "\n",
    "# G = nx.Graph()\n",
    "\n",
    "# n = 6\n",
    "\n",
    "# for u in range(n):\n",
    "#     if parent[u] != -1:\n",
    "#         G.add_edge(parent[u], u, weight=graph[parent[u]][u])\n",
    "# pos = nx.spring_layout(G)\n",
    "# nx.draw(G, pos, with_labels=True, node_size=10, node_color='lightblue', font_size=10)\n",
    "# edge_labels = nx.get_edge_attributes(G, 'weight')\n",
    "# nx.draw_networkx_edge_labels(G, pos, edge_labels=edge_labels)\n",
    "# plt.show()\n",
    "\n"
   ]
  },
  {
   "cell_type": "markdown",
   "id": "c20d26d0",
   "metadata": {},
   "source": [
    "If we were to use adjacency matrix, we would have needed 1000*1000 = 1,000,000 space\n",
    "\n",
    "Whereas in adj list we only need 2*Edges space\n",
    "\n",
    "adjlist[u] = [(v, w), (v, w), (v, w)]"
   ]
  },
  {
   "cell_type": "markdown",
   "id": "d08a8ff0",
   "metadata": {},
   "source": []
  }
 ],
 "metadata": {
  "kernelspec": {
   "display_name": "Python 3",
   "language": "python",
   "name": "python3"
  },
  "language_info": {
   "codemirror_mode": {
    "name": "ipython",
    "version": 3
   },
   "file_extension": ".py",
   "mimetype": "text/x-python",
   "name": "python",
   "nbconvert_exporter": "python",
   "pygments_lexer": "ipython3",
   "version": "3.12.8"
  }
 },
 "nbformat": 4,
 "nbformat_minor": 5
}
