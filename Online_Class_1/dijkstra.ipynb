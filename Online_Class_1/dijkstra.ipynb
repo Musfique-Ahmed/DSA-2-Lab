{
 "cells": [
  {
   "cell_type": "code",
   "execution_count": null,
   "id": "886458ed",
   "metadata": {},
   "outputs": [],
   "source": [
    "\n",
    "\n",
    "visited = []\n",
    "# cost = []\n",
    "\n",
    "def dijkstra(graph, sorce):\n",
    "    for node in graph:\n",
    "        new_cost = node.prev.cost + node.dist\n",
    "        if new_cost < node.cost:\n",
    "            node.cost = new_cost\n",
    "\n",
    "        visited.append(node)\n",
    "\n",
    "# minimum cost negihbor ber korar jonno min-heap use korbo\n",
    "\n"
   ]
  }
 ],
 "metadata": {
  "language_info": {
   "name": "python"
  }
 },
 "nbformat": 4,
 "nbformat_minor": 5
}
