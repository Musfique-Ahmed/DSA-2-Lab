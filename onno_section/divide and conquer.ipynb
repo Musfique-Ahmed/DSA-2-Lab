{
 "cells": [
  {
   "cell_type": "code",
   "execution_count": 6,
   "metadata": {},
   "outputs": [],
   "source": [
    "def listSum1(arr):\n",
    "    if len(arr) == 0:\n",
    "        return 0\n",
    "    return arr[-1] + listSum1(arr[:-1])\n",
    "# Not divide and conquer"
   ]
  },
  {
   "cell_type": "code",
   "execution_count": 8,
   "metadata": {},
   "outputs": [
    {
     "name": "stdout",
     "output_type": "stream",
     "text": [
      "28\n"
     ]
    }
   ],
   "source": [
    "def listSum(arr):\n",
    "    if len(arr) == 1:\n",
    "        return arr[0]\n",
    "    mid = len(arr)//2\n",
    "    return listSum(arr[:mid]) + listSum(arr[mid:])\n",
    "\n",
    "print(listSum([1, 2, 3, 4, 5, 6, 7]))"
   ]
  },
  {
   "cell_type": "code",
   "execution_count": 9,
   "metadata": {},
   "outputs": [],
   "source": [
    "def countEven(arr):\n",
    "    if len(arr) == 1:\n",
    "        return 1 if arr[0]%2 == 0 else 0\n",
    "    mid = len(arr)//2\n",
    "    return countEven(arr[:mid]) + countEven(arr[mid:])"
   ]
  },
  {
   "cell_type": "code",
   "execution_count": 10,
   "metadata": {},
   "outputs": [],
   "source": [
    "def findMax(arr):\n",
    "    if len(arr) == 1:\n",
    "        return arr[0]\n",
    "    mid = len(arr) // 2\n",
    "    leftMax = findMax(arr[:mid])\n",
    "    rightMax = findMax(arr[mid:])\n",
    "    return leftMax if leftMax > rightMax else rightMax"
   ]
  },
  {
   "cell_type": "code",
   "execution_count": 14,
   "metadata": {},
   "outputs": [
    {
     "name": "stdout",
     "output_type": "stream",
     "text": [
      "1.7320499420166016\n"
     ]
    }
   ],
   "source": [
    "def sqrt(n, low, high):\n",
    "    #base case\n",
    "    if high - low < .000001:\n",
    "        return low\n",
    "    mid = (low+high)/2\n",
    "    if mid*mid > n:\n",
    "        high = mid\n",
    "    else:\n",
    "        low = mid\n",
    "    return sqrt(n, low, high)\n",
    "\n",
    "print(sqrt(3, 1, 3))"
   ]
  },
  {
   "cell_type": "markdown",
   "metadata": {},
   "source": [
    "Maximum Subarray Sum"
   ]
  },
  {
   "cell_type": "code",
   "execution_count": 15,
   "metadata": {},
   "outputs": [
    {
     "name": "stdout",
     "output_type": "stream",
     "text": [
      "7\n"
     ]
    }
   ],
   "source": [
    "#Brute force\n",
    "arr = [-1, 2, 4, -5, 6, -3]\n",
    "\n",
    "def subarraySum(arr):\n",
    "    maximum = -1000000\n",
    "    for start in range(len(arr)):\n",
    "        for end in range(start, len(arr)):\n",
    "            s = sum(arr[start: end+1])\n",
    "            maximum = max(s, maximum)\n",
    "    return maximum\n",
    "\n",
    "print(subarraySum(arr))"
   ]
  },
  {
   "cell_type": "code",
   "execution_count": 18,
   "metadata": {},
   "outputs": [
    {
     "name": "stdout",
     "output_type": "stream",
     "text": [
      "8\n"
     ]
    }
   ],
   "source": [
    "#Divide and conquer\n",
    "arr = [-1, 2, 4, -5, 7, -3]\n",
    "def crossingSum(arr):\n",
    "    mid = len(arr)//2\n",
    "    s, suffixMax = 0, -1000000\n",
    "    for i in range(mid-1, -1, -1):\n",
    "        s += arr[i]\n",
    "        suffixMax = max(suffixMax, s)\n",
    "    s, prefixMax = 0, -100000\n",
    "    for j in range(mid, len(arr)):\n",
    "        s += arr[j]\n",
    "        prefixMax = max(prefixMax, s)\n",
    "    return suffixMax + prefixMax\n",
    "def subarraySum(arr):\n",
    "    if len(arr) == 1:\n",
    "        return arr[0]\n",
    "    mid = len(arr)//2\n",
    "    leftMax = subarraySum(arr[:mid])\n",
    "    rightMax = subarraySum(arr[mid:])\n",
    "    crossingMax = crossingSum(arr)\n",
    "    return max(leftMax, rightMax, crossingMax)\n",
    "\n",
    "print(subarraySum(arr))"
   ]
  },
  {
   "cell_type": "code",
   "execution_count": null,
   "metadata": {},
   "outputs": [],
   "source": []
  }
 ],
 "metadata": {
  "kernelspec": {
   "display_name": "Python 3",
   "language": "python",
   "name": "python3"
  },
  "language_info": {
   "codemirror_mode": {
    "name": "ipython",
    "version": 3
   },
   "file_extension": ".py",
   "mimetype": "text/x-python",
   "name": "python",
   "nbconvert_exporter": "python",
   "pygments_lexer": "ipython3",
   "version": "3.12.1"
  }
 },
 "nbformat": 4,
 "nbformat_minor": 2
}
