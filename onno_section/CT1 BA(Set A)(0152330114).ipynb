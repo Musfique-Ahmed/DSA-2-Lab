{
 "cells": [
  {
   "cell_type": "markdown",
   "metadata": {},
   "source": [
    "Problem 1\n",
    "---------\n",
    "You are given an integer array *arr*. You task is to reverse this list recursively.\n",
    "\n",
    "Do not print this list inside the function and do not just call *arr[::-1]*. Swap every elements in the list and return the reversed list.\n",
    "\n",
    "| Sample Input     | Sample Output    |\n",
    "| -----------------|------------------|\n",
    "| [1, 2, 3, 4, 5]  | [5, 4, 3, 2, 1]  |"
   ]
  },
  {
   "cell_type": "code",
   "execution_count": 16,
   "metadata": {},
   "outputs": [
    {
     "name": "stdout",
     "output_type": "stream",
     "text": [
      "5 4 3 2 1\n"
     ]
    }
   ],
   "source": [
    "def reverseList (arr):\n",
    "    if len(arr) == 1:\n",
    "        return arr[0]\n",
    "    \n",
    "    print(arr[-1], end = \" \")\n",
    "    return reverseList(arr[:-1])\n",
    "\n",
    "arr = [1, 2, 3, 4, 5]\n",
    "print(reverseList(arr))"
   ]
  },
  {
   "cell_type": "markdown",
   "metadata": {},
   "source": [
    "Problem 2\n",
    "---------\n",
    "You are given a **real** number *n* greater or equal to 1. You have to find the cube root of this number using Binary Search.\n",
    "\n",
    "Your answer should have 4 decimal digits of accuracy.\n",
    "\n",
    "| Sample Input     | Sample Output    |\n",
    "| -----------------|------------------|\n",
    "| 27               | 3.0000           |\n",
    "| 18               | 2.6207           |"
   ]
  },
  {
   "cell_type": "code",
   "execution_count": 43,
   "metadata": {},
   "outputs": [
    {
     "name": "stdout",
     "output_type": "stream",
     "text": [
      "3.0\n"
     ]
    }
   ],
   "source": [
    "def cubeRoot(n, low, high):    \n",
    "    if high - low < .000000000000001:\n",
    "        return low\n",
    "    mid = (low+high)/2\n",
    "    if mid*mid*mid > n:\n",
    "        high = mid\n",
    "    else:\n",
    "        low = mid\n",
    "    return cubeRoot(n, low, high)\n",
    "\n",
    "n = 27.0\n",
    "print(cubeRoot(n, 1, n))"
   ]
  },
  {
   "cell_type": "markdown",
   "metadata": {},
   "source": [
    "Problem 3\n",
    "---------\n",
    "There is a classic counting problem which calculates the number of ways *n* hats can be returned to *n* people such that no hat makes it back to its owner.\n",
    "\n",
    "This is called the derangement problem. The derangement of *n* is written as *!n* (The factorial sign comes before n). Derangement of *n* is defined by:\n",
    "$$!n = (n-1)(!(n-1) + !(n-2))$$\n",
    "The base cases are:\n",
    "$$!0=1\\;and\\;!1=0$$\n",
    "Given the defintion of derangement your task is to write a recursive function which will calculate the value of *!n*\n",
    "| Sample Input     | Sample Output    |\n",
    "| -----------------|------------------|\n",
    "| 7                | 1854             |"
   ]
  },
  {
   "cell_type": "code",
   "execution_count": 42,
   "metadata": {},
   "outputs": [
    {
     "name": "stdout",
     "output_type": "stream",
     "text": [
      "1854\n"
     ]
    }
   ],
   "source": [
    "n = 7 \n",
    "def derangement(n):\n",
    "    if n == 1:\n",
    "        return 0\n",
    "    if n == 0:\n",
    "        return 1\n",
    "    return (n-1) * (derangement(n-1) + derangement(n-2))\n",
    "\n",
    "print(derangement(n))"
   ]
  }
 ],
 "metadata": {
  "kernelspec": {
   "display_name": "Python 3",
   "language": "python",
   "name": "python3"
  },
  "language_info": {
   "codemirror_mode": {
    "name": "ipython",
    "version": 3
   },
   "file_extension": ".py",
   "mimetype": "text/x-python",
   "name": "python",
   "nbconvert_exporter": "python",
   "pygments_lexer": "ipython3",
   "version": "3.12.1"
  }
 },
 "nbformat": 4,
 "nbformat_minor": 2
}
