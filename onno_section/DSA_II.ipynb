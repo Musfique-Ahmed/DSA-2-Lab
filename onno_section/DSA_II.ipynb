{
  "nbformat": 4,
  "nbformat_minor": 0,
  "metadata": {
    "colab": {
      "provenance": []
    },
    "kernelspec": {
      "name": "python3",
      "display_name": "Python 3"
    },
    "language_info": {
      "name": "python"
    }
  },
  "cells": [
    {
      "cell_type": "markdown",
      "source": [
        "# **D&V**\n"
      ],
      "metadata": {
        "id": "Nq3BOfZfcKIr"
      }
    },
    {
      "cell_type": "code",
      "source": [
        "def listSum(arr):\n",
        "    if len(arr) == 1:\n",
        "        return arr[0]\n",
        "    mid = len(arr)//2\n",
        "    return listSum(arr[:mid]) + listSum(arr[mid:])\n",
        "\n",
        "print(listSum([1, 2, 3, 4, 5, 6, 7]))"
      ],
      "metadata": {
        "id": "HMUBy_BkcOOK"
      },
      "execution_count": null,
      "outputs": []
    },
    {
      "cell_type": "code",
      "source": [
        "def countEven(arr):\n",
        "    if len(arr) == 1:\n",
        "        return 1 if arr[0]%2 == 0 else 0\n",
        "    mid = len(arr)//2\n",
        "    return countEven(arr[:mid]) + countEven(arr[mid:])\n",
        "\n",
        "arr = [1, 2, 3, 4, 5, 6, 7]\n",
        "print(countEven(arr))"
      ],
      "metadata": {
        "id": "LNIr2E6BcU-S"
      },
      "execution_count": null,
      "outputs": []
    },
    {
      "cell_type": "code",
      "source": [
        "def findMax(arr):\n",
        "    if len(arr) == 1:\n",
        "        return arr[0]\n",
        "    mid = len(arr) // 2\n",
        "    leftMax = findMax(arr[:mid])\n",
        "    rightMax = findMax(arr[mid:])\n",
        "    return leftMax if leftMax > rightMax else rightMax\n",
        "\n",
        "arr = [1, 2, 3, 4, 5, 6, 7]\n",
        "print(findMax(arr))"
      ],
      "metadata": {
        "id": "kF_Xcp-9caQq"
      },
      "execution_count": null,
      "outputs": []
    },
    {
      "cell_type": "code",
      "source": [
        "def squirt(n, low, high):\n",
        "    #base case\n",
        "    if high - low < .000001:\n",
        "        return low\n",
        "    mid = (low+high)/2\n",
        "    if mid*mid > n:\n",
        "        high = mid\n",
        "    else:\n",
        "        low = mid\n",
        "    return squirt(n, low, high)\n",
        "\n",
        "print(squirt(3, 1, 3))"
      ],
      "metadata": {
        "id": "A9YLt9JecdKK"
      },
      "execution_count": null,
      "outputs": []
    },
    {
      "cell_type": "markdown",
      "source": [
        "# **Sub Array Sum**"
      ],
      "metadata": {
        "id": "K45AjNlUc3R7"
      }
    },
    {
      "cell_type": "code",
      "source": [
        "#Divide and conquer\n",
        "arr = [-1, 2, 4, -5, 7, -3]\n",
        "def crossingSum(arr):\n",
        "    mid = len(arr)//2\n",
        "    s, pre_Max = 0, -1000000\n",
        "    for i in range(mid-1, -1, -1):\n",
        "        s += arr[i]\n",
        "        pre_Max = max(pre_Max, s)\n",
        "    s, post_max = 0, -100000\n",
        "    for j in range(mid, len(arr)):\n",
        "        s += arr[j]\n",
        "        post_max = max(post_max, s)\n",
        "    return pre_Max + post_max\n",
        "def subarraySum(arr):\n",
        "    if len(arr) == 1:\n",
        "        return arr[0]\n",
        "    mid = len(arr)//2\n",
        "    leftMax = subarraySum(arr[:mid])\n",
        "    rightMax = subarraySum(arr[mid:])\n",
        "    crossingMax = crossingSum(arr)\n",
        "    return max(leftMax, rightMax, crossingMax)\n",
        "\n",
        "print(subarraySum(arr))\n",
        "\n",
        "#Brute force\n",
        "arr = [-1, 2, 4, -5, 6, -3]\n",
        "\n",
        "def subarraySum(arr):\n",
        "    maximum = -1000000\n",
        "    for start in range(len(arr)):\n",
        "        for end in range(start, len(arr)):\n",
        "            s = sum(arr[start: end+1])\n",
        "            maximum = max(s, maximum)\n",
        "    return maximum\n",
        "\n",
        "print(subarraySum(arr))"
      ],
      "metadata": {
        "colab": {
          "base_uri": "https://localhost:8080/"
        },
        "id": "KIv8rFZJcg0L",
        "outputId": "98327b35-0a39-420e-ceda-540e9591244f"
      },
      "execution_count": 1,
      "outputs": [
        {
          "output_type": "stream",
          "name": "stdout",
          "text": [
            "8\n"
          ]
        }
      ]
    },
    {
      "cell_type": "markdown",
      "source": [
        "# **Merge Sort**"
      ],
      "metadata": {
        "id": "MJUE9tb5crEL"
      }
    },
    {
      "cell_type": "code",
      "source": [
        "def merge_sort(arr):\n",
        "    if len(arr) <= 1:\n",
        "        return arr\n",
        "\n",
        "    mid = len(arr) // 2\n",
        "\n",
        "    left_half = merge_sort(arr[:mid])\n",
        "    right_half = merge_sort(arr[mid:])\n",
        "\n",
        "    return merge(left_half, right_half)\n",
        "\n",
        "def merge(left, right):\n",
        "    result = []\n",
        "    i = j = 0\n",
        "\n",
        "    while i < len(left) and j < len(right):\n",
        "        if left[i] < right[j]:\n",
        "            result.append(left[i])\n",
        "            i += 1\n",
        "        else:\n",
        "            result.append(right[j])\n",
        "            j += 1\n",
        "\n",
        "    result.extend(left[i:])\n",
        "    result.extend(right[j:])\n",
        "\n",
        "    return result\n",
        "\n",
        "arr = [8, 3, 1, 7, 0, 10, 2]\n",
        "sorted_arr = merge_sort(arr)\n",
        "print(\"Sorted array:\", sorted_arr)"
      ],
      "metadata": {
        "id": "fts_pfsbckkq"
      },
      "execution_count": 1,
      "outputs": []
    },
    {
      "cell_type": "code",
      "source": [
        "#Count Freq\n",
        "def count_frequency(arr, low, high):\n",
        "    if low == high:\n",
        "        return {arr[low]: 1}\n",
        "\n",
        "    mid = (low + high) // 2\n",
        "    left_freq = count_frequency(arr, low, mid)\n",
        "    right_freq = count_frequency(arr, mid + 1, high)\n",
        "\n",
        "    for key, value in right_freq.items():\n",
        "        if key in left_freq:\n",
        "            left_freq[key] += value\n",
        "        else:\n",
        "            left_freq[key] = value\n",
        "\n",
        "\n",
        "    return left_freq\n",
        "\n",
        "arr = [1, 2, 3, 1, 2, 1, 4, 3, 2]\n",
        "result = count_frequency(arr, 0, len(arr) - 1)\n",
        "print(result)"
      ],
      "metadata": {
        "id": "lNAWwa3Qcxtr"
      },
      "execution_count": null,
      "outputs": []
    },
    {
      "cell_type": "markdown",
      "source": [
        "#**Recursion**"
      ],
      "metadata": {
        "id": "omhpInO8dBmK"
      }
    },
    {
      "cell_type": "code",
      "source": [
        "## GPT\n",
        "def even(start, end):\n",
        "    if start > end:\n",
        "        return []  # Base case: return an empty list if start exceeds end\n",
        "\n",
        "    if start % 2 == 0:\n",
        "        return [start] + even(start + 2, end)  # Include current even number and recurse with step 2\n",
        "    else:\n",
        "        return even(start + 1, end)  # If odd, move to the next number\n",
        "\n",
        "print(even(10, 10))"
      ],
      "metadata": {
        "id": "UvatWH5zdBP3"
      },
      "execution_count": null,
      "outputs": []
    },
    {
      "cell_type": "code",
      "source": [
        "## ODD of the question\n",
        "def odd(start, end):\n",
        "    if start > end:  # Base case: return an empty list if start exceeds end\n",
        "        return []\n",
        "\n",
        "    if start % 2 != 0:\n",
        "        return [start] + odd(start + 2, end)  # Include current odd number and recurse with step 2\n",
        "    else:\n",
        "        return odd(start + 1, end)  # If even, move to the next number\n",
        "\n",
        "print(odd(3, 10))"
      ],
      "metadata": {
        "id": "54GQUd3dc0Qy"
      },
      "execution_count": null,
      "outputs": []
    },
    {
      "cell_type": "code",
      "source": [
        "def odd(s,e):\n",
        "    if s>e:\n",
        "        return None\n",
        "    if s%2!=0:\n",
        "        print(s,end=\" \")\n",
        "\n",
        "    return odd(s+1,e)\n",
        "odd(3,10)"
      ],
      "metadata": {
        "id": "GcQWL4FfdXgL"
      },
      "execution_count": null,
      "outputs": []
    },
    {
      "cell_type": "code",
      "source": [
        "## Write a recursive program to print an array of size n in given order\n",
        "\n",
        "def print_array(arr):\n",
        "    if not arr:  # Base case: stop when the array is empty\n",
        "        return\n",
        "    print(arr[0],end=\" \")  # Print the first element\n",
        "    print_array(arr[1:])  # Recurse with the rest of the array\n",
        "\n",
        "arr = [2, 3, 4, 5]\n",
        "print_array(arr)"
      ],
      "metadata": {
        "id": "akja0tgqdc9i"
      },
      "execution_count": null,
      "outputs": []
    },
    {
      "cell_type": "code",
      "source": [
        "def size(arr):\n",
        "    if not arr:  # Check if the array is empty\n",
        "        return 0\n",
        "    return 1 + size(arr[1:])  # Recursively count the elements\n",
        "\n",
        "arr = [2, 3, 4, 5]\n",
        "print(size(arr))"
      ],
      "metadata": {
        "id": "uazHHruGdfea"
      },
      "execution_count": null,
      "outputs": []
    },
    {
      "cell_type": "code",
      "source": [
        "# Write a recursive program to print an array of size n in reverse order.\n",
        "\n",
        "def print_array(arr):\n",
        "    if not arr:  # Base case: stop when the array is empty\n",
        "        return\n",
        "    print(arr[-1],end = \" \")  # Print the first element\n",
        "    print_array(arr[:-1])  # Recurse with the rest of the array\n",
        "\n",
        "arr = [2, 3, 4, 5]\n",
        "print_array(arr)"
      ],
      "metadata": {
        "id": "eBqAKuamdhia"
      },
      "execution_count": null,
      "outputs": []
    },
    {
      "cell_type": "code",
      "source": [
        "# Write a recursive program to find the sum of the elements of an array of size n\n",
        "def addition(arr):\n",
        "    if not arr:  # Check if the array is empty\n",
        "        return 0\n",
        "    return arr[0] + addition(arr[1:])  # Recursively count the elements\n",
        "\n",
        "arr = [2, 3, 4, 5]\n",
        "print(addition(arr))"
      ],
      "metadata": {
        "id": "ZbtRqq7udjiK"
      },
      "execution_count": null,
      "outputs": []
    },
    {
      "cell_type": "code",
      "source": [
        "# Write a recursive program to find the products of the elements of an array of size n.\n",
        "def product(arr):\n",
        "    if not arr:  # Check if the array is empty\n",
        "        return 1\n",
        "    return arr[0] * product(arr[1:])  # Recursively count the elements\n",
        "\n",
        "arr = [2, 3, 4, 5]\n",
        "print(product(arr))"
      ],
      "metadata": {
        "id": "dMfiL0hpdl4S"
      },
      "execution_count": null,
      "outputs": []
    },
    {
      "cell_type": "code",
      "source": [
        "#  Write a recursive program to find the maximum of the elements of an array of size n.\n",
        "\n",
        "arr = [8, 2, 6, 5, 4, 1, 3]\n",
        "def findMax(arr):\n",
        "    if len(arr)==1:\n",
        "        return arr[0]\n",
        "    #recursive step\n",
        "    x = arr[0]\n",
        "    y = findMax(arr[1:])\n",
        "    if x>y:\n",
        "        return x\n",
        "    else:\n",
        "        return y\n",
        "print(findMax(arr))"
      ],
      "metadata": {
        "id": "BUIYpHaAdoiy"
      },
      "execution_count": null,
      "outputs": []
    },
    {
      "cell_type": "code",
      "source": [
        "# Write a recursive program to print the odd/even numbers of an array of n integers\n",
        "\n",
        "# arr= [5,4,2,6,8,7]\n",
        "def find_ev(arr):\n",
        "    if not arr:\n",
        "        return None\n",
        "    if arr[0]%2==0 :\n",
        "        print(arr[0],end=\" \")\n",
        "    return find_ev(arr[1:])\n",
        "arr= [5,4,2,6,8,7,10,11,-2,-5]\n",
        "find_ev(arr)"
      ],
      "metadata": {
        "id": "WiL1k3Lxdqj6"
      },
      "execution_count": null,
      "outputs": []
    },
    {
      "cell_type": "code",
      "source": [
        "# Write a recursive program to find the average of the elements of an array of size n\n",
        "def find_avg(arr):\n",
        "    if len(arr) == 1:\n",
        "        return arr[0]\n",
        "    return (arr[0] + (len(arr) - 1) * find_avg(arr[1:])) / len(arr)\n",
        "\n",
        "arr = [5, 4, 1, 2]\n",
        "print(find_avg(arr))"
      ],
      "metadata": {
        "id": "YWwIv_xKds7a"
      },
      "execution_count": null,
      "outputs": []
    },
    {
      "cell_type": "code",
      "source": [
        "def findSum(arr):\n",
        "    if not arr:\n",
        "        return 0\n",
        "    return(arr[0]/x + findSum(arr[1:]))\n",
        "arr = [1,2,3,4]\n",
        "x = len(arr)\n",
        "\n",
        "print(findSum(arr))"
      ],
      "metadata": {
        "id": "4skkBHgddwSS"
      },
      "execution_count": null,
      "outputs": []
    },
    {
      "cell_type": "code",
      "source": [
        "def is_prime(n, i=2):\n",
        "    if n < 2:\n",
        "        return False\n",
        "    if i > n // 2:\n",
        "        return True\n",
        "    if n % i == 0:\n",
        "        return False\n",
        "    return is_prime(n, i + 1)\n",
        "\n",
        "def prime(arr):\n",
        "    if not arr:\n",
        "        return []\n",
        "    if is_prime(arr[0]):\n",
        "        return [arr[0]] + prime(arr[1:])\n",
        "    return prime(arr[1:])\n",
        "\n",
        "arr = [1, 3, 5, 2, 6, 7, 8, 9]\n",
        "print(prime(arr))"
      ],
      "metadata": {
        "id": "nKnJunpDdyIi"
      },
      "execution_count": null,
      "outputs": []
    },
    {
      "cell_type": "code",
      "source": [
        "#Write a recursive program to count the odd/even numbers of an array of n integers\n",
        "\n",
        "def count_odd(arr):\n",
        "    if not arr:\n",
        "        return 0\n",
        "    if arr[0]%2!=0:\n",
        "        return 1 + count_odd(arr[1:])\n",
        "    return count_odd(arr[1:])\n",
        "arr=[1,3,5,4,6,7]\n",
        "print(f\"count odd : {count_odd(arr)}\")\n",
        "\n",
        "\n",
        "def  count_even(arr):\n",
        "    if  not  arr:\n",
        "        return 0\n",
        "    if arr[0]%2==0:\n",
        "        return 1+count_even(arr[1:])\n",
        "    return count_even(arr[1:])\n",
        "arr=[1,3,5,4,6,7]\n",
        "print(f\"count even : {count_even(arr)}\")"
      ],
      "metadata": {
        "id": "U5qVTELpd0st"
      },
      "execution_count": null,
      "outputs": []
    },
    {
      "cell_type": "code",
      "source": [
        "## Abid Prime Solution\n",
        "\n",
        "def findprime(n):\n",
        "    if n < 2:\n",
        "        return False\n",
        "    for i in range(2,n):\n",
        "        if n%i == 0:\n",
        "            return False\n",
        "\n",
        "        else:\n",
        "            return True\n",
        "\n",
        "print(findprime(11))"
      ],
      "metadata": {
        "id": "sXFAuxXRd2zy"
      },
      "execution_count": null,
      "outputs": []
    },
    {
      "cell_type": "code",
      "source": [
        "def is_prime(n, i=2):\n",
        "    if n < 2:\n",
        "        return False\n",
        "    if i > n // 2:\n",
        "        return True\n",
        "    if n % i == 0:\n",
        "        return False\n",
        "    return is_prime(n, i + 1)\n",
        "\n",
        "def count_prime(arr):\n",
        "    if not arr:\n",
        "        return 0\n",
        "    if is_prime(arr[0]):\n",
        "        return 1 + count_prime(arr[1:])\n",
        "    return count_prime(arr[1:])\n",
        "\n",
        "arr = [1, 3, 5, 2, 6, 7, 8, 9]\n",
        "count_prime(arr)"
      ],
      "metadata": {
        "id": "5ePa1O2_d6vC"
      },
      "execution_count": null,
      "outputs": []
    }
  ]
}