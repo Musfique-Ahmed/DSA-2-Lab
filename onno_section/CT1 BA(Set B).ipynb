{
 "cells": [
  {
   "cell_type": "markdown",
   "metadata": {},
   "source": [
    "Problem 1\n",
    "---------\n",
    "You are given an integer array *s*. You task is to reverse this string recursively.\n",
    "\n",
    "Do not print this string inside the function and do not just call *s[::-1]*. Swap every characters in the strign and return the reversed string.\n",
    "\n",
    "| Sample Input     | Sample Output    |\n",
    "| -----------------|------------------|\n",
    "| \"apple\"  | \"elppa\"  |"
   ]
  },
  {
   "cell_type": "code",
   "execution_count": null,
   "metadata": {},
   "outputs": [],
   "source": [
    "s = \"apple\"\n",
    "def reverseString(s):\n",
    "    #Code here\n",
    "    pass\n",
    "print(reverseString(s)) #Output: elppa"
   ]
  },
  {
   "cell_type": "markdown",
   "metadata": {},
   "source": [
    "Problem 2\n",
    "---------\n",
    "You are given 2 integers *b* and *n*. You have to calculate the value $b^n$ using the Divide and Conquer approach.\n",
    "\n",
    "| Sample Input     | Sample Output    |\n",
    "| -----------------|------------------|\n",
    "| 2, 7              | 128          |\n",
    "| 3, 5              | 243       |"
   ]
  },
  {
   "cell_type": "code",
   "execution_count": null,
   "metadata": {},
   "outputs": [],
   "source": [
    "b, n = 2, 7\n",
    "def power(b, n):\n",
    "    #Code here\n",
    "    pass\n",
    "print(power(b, n)) #Output: 128"
   ]
  },
  {
   "cell_type": "markdown",
   "metadata": {},
   "source": [
    "Problem 3\n",
    "---------\n",
    "To calculate the number of binary trees consisting of *n* nodes **Catalan** numbers were discovered. The *nth* Catalan number is defined by:\n",
    "$$C_n = \\frac{1}{2n+1}{}^n C_r$$\n",
    "As you can see, combination shows up to calculate the Catalan numbers.\n",
    "Now your task is to calculate the *nth* Catalan number using the above definition. You have to calculate the combination part recursively.\n",
    "| Sample Input     | Sample Output    |\n",
    "| -----------------|------------------|\n",
    "| 3            | 5         |\n",
    "| 7            | 429       |"
   ]
  },
  {
   "cell_type": "code",
   "execution_count": null,
   "metadata": {},
   "outputs": [],
   "source": [
    "n = 7\n",
    "def combination(n, r):\n",
    "    #Code here\n",
    "    pass\n",
    "def catalan(n):\n",
    "    #Code here\n",
    "    pass\n",
    "print(catalan(n)) #Output: 429"
   ]
  }
 ],
 "metadata": {
  "language_info": {
   "name": "python"
  }
 },
 "nbformat": 4,
 "nbformat_minor": 2
}
