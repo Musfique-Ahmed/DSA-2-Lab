{
 "cells": [
  {
   "cell_type": "code",
   "execution_count": null,
   "id": "e9eb8696",
   "metadata": {},
   "outputs": [],
   "source": [
    "def find_set(vertex):\n",
    "    pass\n",
    "\n",
    "def make_set(vertex):\n",
    "    return {vertex}\n",
    "\n",
    "def union(u,v):\n",
    "    return u.union(v)\n",
    "\n",
    "def MST_Krustal(G, w):\n",
    "    a = []\n",
    "    E = {\n",
    "        'edge': (\"vertex1\", \"vertex2\")\n",
    "    }\n",
    "\n",
    "    for v in G:\n",
    "        make_set(v)\n",
    "\n",
    "    # sort the edges of E by non-decreasing weight w\n",
    "    E = E.sort()\n",
    "    for edge, vertexces in E.items(): #  vertexes = (u,v)\n",
    "        if find_set(vertexces[0]) != find_set(vertexces[1]):\n",
    "            a.append(edge)\n",
    "            union(vertexces[0], vertexces[1])\n",
    "\n",
    "    return sum(a)"
   ]
  },
  {
   "cell_type": "code",
   "execution_count": 2,
   "id": "fdc55cf3",
   "metadata": {},
   "outputs": [
    {
     "name": "stdout",
     "output_type": "stream",
     "text": [
      "{3, 4, 5, 6}\n"
     ]
    }
   ],
   "source": [
    "# print({3,4} + {5,6})\n",
    "\n",
    "u = {3,4}\n",
    "v = {5,6}\n",
    "\n",
    "print(u.union(v))\n",
    "\n"
   ]
  },
  {
   "cell_type": "code",
   "execution_count": 1,
   "id": "635348b2",
   "metadata": {},
   "outputs": [
    {
     "name": "stdout",
     "output_type": "stream",
     "text": [
      "[False, False, False, False, False]\n"
     ]
    }
   ],
   "source": [
    "adjList = [1,2,3,4,5]\n",
    "tree = [False for _ in range(len(adjList))] \n",
    "print(tree)"
   ]
  },
  {
   "cell_type": "code",
   "execution_count": null,
   "id": "d16319a5",
   "metadata": {},
   "outputs": [
    {
     "name": "stdout",
     "output_type": "stream",
     "text": [
      "[5]\n"
     ]
    }
   ],
   "source": [
    "adjList = [1,2,3,4,5]\n",
    "tree = [True * (len(adjList))] \n",
    "print(tree)"
   ]
  },
  {
   "cell_type": "code",
   "execution_count": 5,
   "id": "8ceab9fd",
   "metadata": {},
   "outputs": [
    {
     "name": "stdout",
     "output_type": "stream",
     "text": [
      "1 ---- 2\n",
      "3 ---- 4\n",
      "5 ---- 6\n"
     ]
    }
   ],
   "source": [
    "adjList = [(1,2),(3,4),(5,6)]\n",
    "\n",
    "for k,t in adjList:\n",
    "    print(f\"{k} ---- {t}\")"
   ]
  },
  {
   "cell_type": "code",
   "execution_count": null,
   "id": "74061a51",
   "metadata": {},
   "outputs": [
    {
     "name": "stdout",
     "output_type": "stream",
     "text": [
      "{0: [], 1: [], 2: [], 3: [], 4: []}\n"
     ]
    }
   ],
   "source": [
    "adjacency_list = {i:[] for i in range(5)}\n",
    "\n",
    "print(adjacency_list)\n",
    "\n",
    "# 4: [(3,21), (2,12), (),()]"
   ]
  },
  {
   "cell_type": "code",
   "execution_count": 9,
   "id": "a5d19d43",
   "metadata": {},
   "outputs": [
    {
     "name": "stdout",
     "output_type": "stream",
     "text": [
      "[0, 1, 2, 3, 4] [0, 0, 0, 0, 0]\n"
     ]
    }
   ],
   "source": [
    "parent = [i for i in range(5)]\n",
    "rank = [0] * 5\n",
    "\n",
    "print(parent, rank)\n"
   ]
  }
 ],
 "metadata": {
  "kernelspec": {
   "display_name": "Python 3",
   "language": "python",
   "name": "python3"
  },
  "language_info": {
   "codemirror_mode": {
    "name": "ipython",
    "version": 3
   },
   "file_extension": ".py",
   "mimetype": "text/x-python",
   "name": "python",
   "nbconvert_exporter": "python",
   "pygments_lexer": "ipython3",
   "version": "3.13.5"
  }
 },
 "nbformat": 4,
 "nbformat_minor": 5
}
