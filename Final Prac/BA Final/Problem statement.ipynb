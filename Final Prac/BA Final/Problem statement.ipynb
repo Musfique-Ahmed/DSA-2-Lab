{
 "cells": [
  {
   "cell_type": "markdown",
   "id": "05a678ee",
   "metadata": {},
   "source": [
    "Problem Statement\n",
    "---------\n",
    "There are **23** students and **80** pairs of friends in the DSA2 lab section BA. Friendships are bidirectional, meaning if student A is friends with student B, then B is also friends with A. Each friendship has a strength value, representing the effort required to pass a message between two friends—the stronger the friendship, the less effort needed.\n",
    "\n",
    "Farhan Tariq Jamee wants to send a secret message to every other student in the class using the minimum total effort. However, some students are considered \"snitches\" and will reveal the secret to the faculty. A student is identified as a snitch if their name contains the substring 'na'. Each student has a unique name, and while passing messages, Jamee must avoid any path that includes a snitch.\n",
    "\n",
    "Your task is to help Jamee determine the minimum total effort required to send the secret message to all students in the class, ensuring that the message is never passed through a snitch."
   ]
  },
  {
   "cell_type": "markdown",
   "id": "f4bffbab",
   "metadata": {},
   "source": [
    "### Input Format\n",
    "\n",
    "- The first line contains two integers, **N** and **M**, where  \n",
    "    - **N** is the number of students in the class.  \n",
    "    - **M** is the number of friendships.\n",
    "\n",
    "- The next **N** lines each contain a string, the name of a student.\n",
    "\n",
    "- The following **M** lines each contain two integers and an integer **w**, representing a friendship between the two students (by their indices in the student list, 0-based) and the strength of their friendship (effort required to pass a message between them):  \n",
    "    `index1 index2 w`\n",
    "\n",
    "**Note:**  \n",
    "- All student names are unique and case-insensitive.  \n",
    "- Friendships are bidirectional.  \n",
    "- Lower values of **w** indicate stronger friendships (less effort).  \n",
    "- A student is a \"snitch\" if their name contains the substring `'na'` (case-insensitive).  \n",
    "- The message must not be passed through any snitch."
   ]
  },
  {
   "cell_type": "markdown",
   "id": "9e9b7709",
   "metadata": {},
   "source": [
    "### Instructions\n",
    "- The node at index **16** represents `'Jamee'`, who is the **source node**.\n",
    "- Use a **Single Source Shortest Path** algorithm (such as Dijkstra's) to find the minimum effort routes from the source node to all other students.\n",
    "- A student is considered a \"snitch\" if their name contains the substring `'na'` (case-insensitive).\n",
    "- **You must use the Rabin-Karp algorithm** (pattern matching using hashing) to detect the `'na'` substring in student names. Using naive string matching will result in partial credit.\n",
    "- While finding routes, ensure that no path passes through any \"snitch\".\n",
    "- Finally, print the route the message will take from `'Jamee'` (index 16) to `'Sayma Talukder Rupa'` (index 1)."
   ]
  },
  {
   "cell_type": "code",
   "execution_count": 1,
   "id": "c5e02a9a",
   "metadata": {},
   "outputs": [
    {
     "name": "stdout",
     "output_type": "stream",
     "text": [
      "{0: [(7, 18), (21, 7), (21, 2), (18, 1), (9, 2), (7, 10), (9, 10), (12, 20)], 1: [(21, 20), (8, 8), (19, 14), (5, 6), (4, 11), (8, 6)], 2: [(13, 17), (18, 1), (16, 15), (16, 6), (5, 6)], 3: [(15, 13), (5, 6), (5, 9), (7, 16)], 4: [(1, 11), (22, 4)], 5: [(6, 17), (11, 6), (3, 6), (20, 11), (11, 5), (11, 9), (3, 9), (1, 6), (2, 6)], 6: [(5, 17), (22, 13), (9, 19), (14, 8), (16, 8), (9, 4), (11, 6), (13, 3), (21, 20)], 7: [(0, 18), (12, 15), (19, 15), (14, 19), (9, 14), (0, 10), (15, 6), (3, 16)], 8: [(19, 18), (22, 18), (1, 8), (21, 17), (17, 9), (1, 6)], 9: [(6, 19), (12, 5), (19, 3), (13, 6), (14, 7), (18, 4), (0, 2), (7, 14), (20, 18), (0, 10), (6, 4), (15, 3), (11, 5), (14, 6), (13, 8)], 10: [(18, 9), (20, 4), (12, 6), (13, 14), (22, 4), (22, 15)], 11: [(5, 6), (5, 5), (5, 9), (17, 17), (6, 6), (9, 5), (16, 17), (16, 19)], 12: [(7, 15), (9, 5), (10, 6), (21, 2), (13, 19), (0, 20)], 13: [(2, 17), (18, 16), (21, 7), (9, 6), (10, 14), (6, 3), (9, 8), (12, 19)], 14: [(6, 8), (18, 7), (16, 1), (9, 7), (7, 19), (22, 16), (17, 11), (16, 2), (9, 6), (15, 2)], 15: [(3, 13), (9, 3), (7, 6), (18, 2), (14, 2)], 16: [(14, 1), (6, 8), (2, 15), (2, 6), (14, 2), (19, 8), (11, 17), (20, 3), (11, 19)], 17: [(14, 11), (11, 17), (8, 9)], 18: [(10, 9), (13, 16), (14, 7), (0, 1), (2, 1), (9, 4), (15, 2), (20, 20)], 19: [(8, 18), (7, 15), (9, 3), (1, 14), (16, 8)], 20: [(10, 4), (5, 11), (21, 4), (9, 18), (18, 20), (16, 3)], 21: [(0, 7), (0, 2), (13, 7), (1, 20), (20, 4), (8, 17), (12, 2), (6, 20)], 22: [(6, 13), (8, 18), (14, 16), (10, 4), (10, 15), (4, 4)]}\n"
     ]
    }
   ],
   "source": [
    "## Input\n",
    "## Task: Input code is already provided for you. Modify it as needed to create the adjacency list representation of the graph.\n",
    "f = open('dataset.txt', 'r')\n",
    "N, M = map(int, f.readline().strip().split())\n",
    "students = [f.readline().strip() for _ in range(N)]\n",
    "adjList = {i:[] for i in range(N)}\n",
    "for i in range(M):\n",
    "    u, v, w = map(int, f.readline().strip().split())\n",
    "    adjList[u].append((v,w))\n",
    "    adjList[v].append((u,w))\n",
    "\n",
    "f.close()\n",
    "print(adjList)\n",
    "## If you are stuck here immediately ask for help.\n"
   ]
  },
  {
   "cell_type": "code",
   "execution_count": 3,
   "id": "e8abfc42",
   "metadata": {},
   "outputs": [
    {
     "name": "stdout",
     "output_type": "stream",
     "text": [
      "True\n"
     ]
    }
   ],
   "source": [
    "## Pattern matching using Rabin-Karp algorithm\n",
    "# ** This function takes a string `s` and returns its hash value.**\n",
    "def hash(s):\n",
    "    # pass\n",
    "    hash_value = 0\n",
    "    order = 1\n",
    "    for c in s:\n",
    "        hash_value += ord(c) * order\n",
    "        order *= 10\n",
    "    \n",
    "    return hash_value\n",
    "\n",
    "# ** This function implements the Rabin-Karp algorithm to find the pattern in the text.**\n",
    "# ** It returns True if the pattern is found otherwise returns False**\n",
    "def rabin_karp(text, pattern):\n",
    "    # pass\n",
    "    text_hash = hash(text[:len(pattern)])\n",
    "    pattern_hash = hash(pattern)\n",
    "\n",
    "    # flag = False\n",
    "\n",
    "    for i in range(len(text)-len(pattern)):\n",
    "        if text_hash == pattern_hash:\n",
    "            # print(f\"Match found at index: {i}\")\n",
    "            # flag = True\n",
    "            return True\n",
    "\n",
    "        text_hash -= ord(text[i])\n",
    "        text_hash /= 10\n",
    "        text_hash += ord(text[i+len(pattern)]) * (10**((len(pattern)-1)))\n",
    "## If you are stuck here, move on to the next part.\n",
    "    return False\n",
    "\n",
    "\n",
    "print(rabin_karp(\"hello, hi, Bye Bye\", \"Bye\"))"
   ]
  },
  {
   "cell_type": "code",
   "execution_count": null,
   "id": "362fcb1c",
   "metadata": {},
   "outputs": [],
   "source": [
    "## Single Source Shortest Path Algorithm\n",
    "# ** This function implements Dijkstra's algorithm to find the shortest path from the source node to all other nodes.**\n",
    "# ** This function returns the distance and the parent list.**\n",
    "# ** The distance list contains the minimum effort required to reach each node from the source.**\n",
    "# ** The parent list contains the previous node in the path for each node.**\n",
    "def dijkstra(source):\n",
    "    pass\n",
    "\n",
    "## Task: Print the route the message will take from 'Jamee' (index 16) to 'Sayma Talukder Rupa' (index 1).\n",
    "## **Use the distance and parent lists returned by the dijkstra function to reconstruct the path.**\n",
    "## **Make sure to print the names here instead of indices.**\n",
    "distance, parent = dijkstra(16)\n",
    "## Code here"
   ]
  }
 ],
 "metadata": {
  "kernelspec": {
   "display_name": "Python 3",
   "language": "python",
   "name": "python3"
  },
  "language_info": {
   "codemirror_mode": {
    "name": "ipython",
    "version": 3
   },
   "file_extension": ".py",
   "mimetype": "text/x-python",
   "name": "python",
   "nbconvert_exporter": "python",
   "pygments_lexer": "ipython3",
   "version": "3.13.5"
  }
 },
 "nbformat": 4,
 "nbformat_minor": 5
}
