{
 "cells": [
  {
   "cell_type": "code",
   "execution_count": null,
   "id": "ebd38027",
   "metadata": {},
   "outputs": [
    {
     "name": "stdout",
     "output_type": "stream",
     "text": [
      "\n",
      "\n"
     ]
    }
   ],
   "source": [
    "from pypdf import PdfReader\n",
    "\n",
    "reader = PdfReader('book.pdf')\n",
    "\n",
    "\n",
    "bigString = \"\"\n",
    "for page in reader.pages:\n",
    "    bigString += page.extract_text()\n",
    "\n"
   ]
  },
  {
   "cell_type": "code",
   "execution_count": 13,
   "id": "afeb2662",
   "metadata": {},
   "outputs": [
    {
     "name": "stdout",
     "output_type": "stream",
     "text": [
      "56796\n"
     ]
    }
   ],
   "source": [
    "words = bigString.split()\n",
    "print(len(words))"
   ]
  },
  {
   "cell_type": "code",
   "execution_count": 15,
   "id": "ceac2739",
   "metadata": {},
   "outputs": [
    {
     "name": "stdout",
     "output_type": "stream",
     "text": [
      "42\n"
     ]
    }
   ],
   "source": [
    "pattern = \"chair\"\n",
    "cnt = 0\n",
    "for word in words:\n",
    "    if pattern in word:\n",
    "        cnt += 1\n",
    "print(cnt)"
   ]
  },
  {
   "cell_type": "code",
   "execution_count": 34,
   "id": "b388fee9",
   "metadata": {},
   "outputs": [
    {
     "name": "stdout",
     "output_type": "stream",
     "text": [
      "1096797\n"
     ]
    }
   ],
   "source": [
    "def string_to_num(s):\n",
    "    hash = 0\n",
    "    positionalValue = 1\n",
    "    for i in range(len(s)):\n",
    "        hash += ord(s[i])*positionalValue\n",
    "        positionalValue *= 10\n",
    "    return hash\n",
    "\n",
    "print(string_to_num('ultra'))"
   ]
  },
  {
   "cell_type": "code",
   "execution_count": 36,
   "id": "d5023f83",
   "metadata": {},
   "outputs": [
    {
     "name": "stdout",
     "output_type": "stream",
     "text": [
      "Pattern found at position: 6\n",
      "Pattern found at position: 35\n"
     ]
    }
   ],
   "source": [
    "text = 'pneumonoultramicroscopicsilicovolcanoconiosis'\n",
    "pattern = 'no'\n",
    "\n",
    "pattern_hash = string_to_num(pattern)\n",
    "window_hash = string_to_num(text[:len(pattern)])\n",
    "\n",
    "for i in range(len(text) - len(pattern)):\n",
    "    # print(window_hash)\n",
    "    if window_hash == pattern_hash:\n",
    "        print(f\"Pattern found at position: {i}\")\n",
    "    window_hash = window_hash - ord(text[i])\n",
    "    window_hash //= 10\n",
    "    window_hash += ord(text[i + len(pattern)])*(10**(len(pattern)-1))\n"
   ]
  },
  {
   "cell_type": "code",
   "execution_count": null,
   "id": "c55b177b",
   "metadata": {},
   "outputs": [],
   "source": []
  }
 ],
 "metadata": {
  "kernelspec": {
   "display_name": "Python 3",
   "language": "python",
   "name": "python3"
  },
  "language_info": {
   "codemirror_mode": {
    "name": "ipython",
    "version": 3
   },
   "file_extension": ".py",
   "mimetype": "text/x-python",
   "name": "python",
   "nbconvert_exporter": "python",
   "pygments_lexer": "ipython3",
   "version": "3.12.1"
  }
 },
 "nbformat": 4,
 "nbformat_minor": 5
}
