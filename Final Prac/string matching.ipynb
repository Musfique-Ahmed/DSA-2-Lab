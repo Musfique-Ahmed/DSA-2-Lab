{
 "cells": [
  {
   "cell_type": "code",
   "execution_count": null,
   "id": "f68ebad3",
   "metadata": {},
   "outputs": [
    {
     "name": "stdout",
     "output_type": "stream",
     "text": [
      "5\n"
     ]
    }
   ],
   "source": [
    "text = \"before was was was, was was is\"\n",
    "pattern = \"was\"\n",
    "\n",
    "words = text.split()\n",
    "cnt = 0\n",
    "for i, word in enumerate(words):\n",
    "    if pattern in word:\n",
    "        cnt += 1\n",
    "\n",
    "print(cnt)"
   ]
  },
  {
   "cell_type": "code",
   "execution_count": 7,
   "id": "3a00c4d7",
   "metadata": {},
   "outputs": [
    {
     "name": "stdout",
     "output_type": "stream",
     "text": [
      "12985\n",
      "12589\n",
      "123126\n"
     ]
    }
   ],
   "source": [
    "def string_to_num(s):\n",
    "    num = 0\n",
    "    order = 1\n",
    "    for c in s:\n",
    "        num += ord(c)*order\n",
    "        order *= 10\n",
    "    return num\n",
    "\n",
    "print(string_to_num(\"saw\"))\n",
    "print(string_to_num(\"was\"))\n",
    "print(string_to_num(\"tomo\"))"
   ]
  },
  {
   "cell_type": "code",
   "execution_count": 9,
   "id": "90aeddd8",
   "metadata": {},
   "outputs": [
    {
     "name": "stdout",
     "output_type": "stream",
     "text": [
      "Pattern found at position: 7\n",
      "Pattern found at position: 11\n",
      "Pattern found at position: 15\n",
      "Pattern found at position: 20\n",
      "Pattern found at position: 24\n"
     ]
    }
   ],
   "source": [
    "text = \"before was was was, was was is\"\n",
    "pattern = \"was\"\n",
    "\n",
    "pattern_hash = string_to_num(pattern)\n",
    "substring_hash = string_to_num(text[:len(pattern)])\n",
    "\n",
    "for i in range(len(text) - len(pattern)):\n",
    "    if pattern_hash == substring_hash:\n",
    "        print(f\"Pattern found at position: {i}\")\n",
    "    substring_hash -= ord(text[i])\n",
    "    substring_hash /= 10\n",
    "    substring_hash += ord(text[i + len(pattern)])*(10**(len(pattern)-1))\n"
   ]
  },
  {
   "cell_type": "code",
   "execution_count": null,
   "id": "23171786",
   "metadata": {},
   "outputs": [],
   "source": []
  }
 ],
 "metadata": {
  "kernelspec": {
   "display_name": "Python 3",
   "language": "python",
   "name": "python3"
  },
  "language_info": {
   "codemirror_mode": {
    "name": "ipython",
    "version": 3
   },
   "file_extension": ".py",
   "mimetype": "text/x-python",
   "name": "python",
   "nbconvert_exporter": "python",
   "pygments_lexer": "ipython3",
   "version": "3.11.5"
  }
 },
 "nbformat": 4,
 "nbformat_minor": 5
}
