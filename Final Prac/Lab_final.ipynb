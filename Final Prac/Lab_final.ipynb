{
  "nbformat": 4,
  "nbformat_minor": 0,
  "metadata": {
    "colab": {
      "provenance": []
    },
    "kernelspec": {
      "name": "python3",
      "display_name": "Python 3"
    },
    "language_info": {
      "name": "python"
    }
  },
  "cells": [
    {
      "cell_type": "markdown",
      "source": [
        "## Prims Algorithm"
      ],
      "metadata": {
        "id": "x2Pw55-1qTZl"
      }
    },
    {
      "cell_type": "code",
      "execution_count": null,
      "metadata": {
        "id": "oFVnIASkpxcb"
      },
      "outputs": [],
      "source": [
        "from heapq import heappop, heappush\n",
        "import networkx as nx\n",
        "import matplotlib.pyplot as plt\n",
        "\n",
        "def PrimsAlgorithm(adjList, root):\n",
        "    parentArray = [-1]*len(adjList)\n",
        "    key = [float('inf')]*len(adjList)\n",
        "    treeVertex = [False]*len(adjList)\n",
        "    key[root]=0\n",
        "    minHeap = [(key[root], root)]\n",
        "    while minHeap:\n",
        "        minKey, u =heappop(minHeap)\n",
        "        treeVertex[u]=True\n",
        "        for v, w in adjList[u]:\n",
        "            if not treeVertex[v] and w<key[v]:\n",
        "                key[v] = w\n",
        "                parentArray[v] = u\n",
        "                heappush(minHeap, (key[v], v))\n",
        "    return key, parentArray\n",
        "\n",
        "with open('sparseGraph(100).txt', 'r') as f:\n",
        "    n, m =map(int, f.readline().split()) #n=vertex number , m=edge number\n",
        "    adjList = {i:[] for i in range(n)}\n",
        "    for _ in range(m):\n",
        "        u, v, w = map(int, f.readline().split())\n",
        "        adjList[u].append((v,w))\n",
        "        adjList[v].append((u,w))\n",
        "    key, pi = PrimsAlgorithm(adjList, 0)\n",
        "    print(sum(key))"
      ]
    },
    {
      "cell_type": "markdown",
      "source": [
        "## Kruskal Algorithm"
      ],
      "metadata": {
        "id": "3HJP80Bnqc5m"
      }
    },
    {
      "cell_type": "code",
      "source": [
        "parent = {}\n",
        "rank = {}\n",
        "\n",
        "def find(u):\n",
        "    if parent[u] != u:\n",
        "        parent[u] = find(parent[u])\n",
        "    return parent[u]\n",
        "\n",
        "def union(u, v):\n",
        "    rootU = find(u)\n",
        "    rootV = find(v)\n",
        "    if rootU != rootV:\n",
        "        if rank[rootU] > rank[rootV]:\n",
        "            parent[rootV] = rootU\n",
        "        elif rank[rootU] < rank[rootV]:\n",
        "            parent[rootU] = rootV\n",
        "        else:\n",
        "            parent[rootV] = rootU\n",
        "            rank[rootU] += 1\n",
        "\n",
        "def kruskalAlgorithm(edgeList, n):\n",
        "    for u in range(n):\n",
        "        parent[u]=u\n",
        "        rank[u]=0\n",
        "    edgeList = sorted(edgeList)\n",
        "    mst_weight = 0\n",
        "    mst_edges = []\n",
        "    for w, u, v in edgeList:\n",
        "        if find(u)!=find(v):\n",
        "            union(u,v)\n",
        "            mst_weight+=w\n",
        "            mst_edges.append((w, u, v))\n",
        "    return mst_weight, mst_edges\n",
        "\n",
        "with open('sparseGraph(100).txt', 'r') as f:\n",
        "    n, m = map(int, f.readline().split())\n",
        "    edgeList = []\n",
        "    for _ in range(m):\n",
        "        u, v, w = map(int, f.readline().split())\n",
        "        edgeList.append((w, u, v))\n",
        "    w, e = kruskalAlgorithm(edgeList, n)\n",
        "    print(w)\n",
        "    print(e)"
      ],
      "metadata": {
        "id": "AOTrgbhaqhi0"
      },
      "execution_count": null,
      "outputs": []
    },
    {
      "cell_type": "markdown",
      "source": [
        "## Djikstra Algorithm"
      ],
      "metadata": {
        "id": "rO45DwfwqxeP"
      }
    },
    {
      "cell_type": "code",
      "source": [
        "from heapq import heapify, heappush, heappop\n",
        "\n",
        "def dijkstra(graph, src, des):\n",
        "    inf = float('inf')\n",
        "    node_data = {\n",
        "        'A': {'cost': inf, 'pred': []},\n",
        "        'B': {'cost': inf, 'pred': []},\n",
        "        'C': {'cost': inf, 'pred': []},\n",
        "        'D': {'cost': inf, 'pred': []},\n",
        "        'E': {'cost': inf, 'pred': []},\n",
        "        'F': {'cost': inf, 'pred': []}\n",
        "    }\n",
        "    node_data[src]['cost']=0\n",
        "    visited = []\n",
        "    temp = src\n",
        "    for i in range(5):\n",
        "        if temp not in visited:\n",
        "            visited.append(temp)\n",
        "            min_heap = []\n",
        "            for j in graph[temp]:\n",
        "                if j not in visited:\n",
        "                    cost = node_data[temp]['cost'] + graph[temp][j]\n",
        "                    if cost<node_data[j]['cost']:\n",
        "                        node_data[j]['cost'] = cost\n",
        "                        node_data[j]['pred'] = node_data[temp]['pred']+list(temp)\n",
        "                    heappush(min_heap, (node_data[j]['cost'],j))\n",
        "            heapify(min_heap)\n",
        "        temp = min_heap[0][1]\n",
        "    print(node_data)\n",
        "    print(\"Shortest Distance: \" + str(node_data[des]['cost']))\n",
        "    print(\"Shortest Path: \" + str(node_data[des]['pred'] + list(des)))\n",
        "\n",
        "\n",
        "graph = {\n",
        "          \"A\": {\"B\":2, \"C\":34},\n",
        "          \"B\": {\"A\":2, \"C\":3, \"D\":8},\n",
        "          \"C\": {\"A\":4, \"B\":3, \"E\":5 ,\"D\":2},\n",
        "          \"D\": {\"B\":8, \"C\":2, \"E\":11, \"F\":22},\n",
        "          \"E\": {\"C\":5, \"D\":11, \"F\":1},\n",
        "          \"F\": {\"D\":22, \"E\":1}\n",
        "          }\n",
        "dijkstra(graph,\"A\",\"F\")"
      ],
      "metadata": {
        "id": "s_xg_UvCqxDT"
      },
      "execution_count": null,
      "outputs": []
    },
    {
      "cell_type": "markdown",
      "source": [
        "## BellmanFord Algorithm"
      ],
      "metadata": {
        "id": "Q3uqeny2rQPm"
      }
    },
    {
      "cell_type": "code",
      "source": [
        "# bellman ford\n",
        "\n",
        "n = 5 # nodes = 0 -> (n-1)\n",
        "edges = [[0,1,10],  # edge = [u,v,w]\n",
        "\t\t [0,2,3],\n",
        "\t\t [1,3,2],\n",
        "\t\t [2,1,4],\n",
        "\t\t [2,3,8],\n",
        "\t\t [2,4,2],\n",
        "\t\t [3,4,5]]\n",
        "src = 0\n",
        "\n",
        "def shortest_path(n,edges,src):\n",
        "\tdst = [float(\"inf\")] * n\n",
        "\tdst[src] = 0\n",
        "\n",
        "\tfor _ in range(n+1):\n",
        "\t\tfor u,v,w in edges:\n",
        "\t\t\tif dst[u] != float('inf') and dst[u] + w < dst[v]:\n",
        "\n",
        "\t\t\t\tdst[v] = dst[u] + w\n",
        "\n",
        "\tfor i in range(n):\n",
        "\t\tif dst[i] == float('inf'):\n",
        "\t\t\tdst[i] = -1\n",
        "\n",
        "\treturn {i:dst[i] for i in range(n)}\n",
        "\n",
        "x = shortest_path(n,edges,src)\n",
        "print(x)"
      ],
      "metadata": {
        "id": "rbPHgeRFrT7J"
      },
      "execution_count": null,
      "outputs": []
    },
    {
      "cell_type": "markdown",
      "source": [
        "## String Matching"
      ],
      "metadata": {
        "id": "iN79WiMnrvsG"
      }
    },
    {
      "cell_type": "code",
      "source": [
        "def string_to_num(s):\n",
        "    hash = 0\n",
        "    positionalValue = 1\n",
        "    for i in range(len(s)):\n",
        "        hash += ord(s[i])*positionalValue\n",
        "        positionalValue *= 10\n",
        "    return hash\n",
        "\n",
        "print(string_to_num('ultra'))\n",
        "\n",
        "\n",
        "text = 'pneumonoultramicroscopicsilicovolcanoconiosis'\n",
        "pattern = 'cro'\n",
        "# print(len(pattern))\n",
        "pattern_hash = string_to_num(pattern)\n",
        "window_hash = string_to_num(text[:len(pattern)])\n",
        "# print(text[:len(pattern)])\n",
        "for i in range(len(text) - len(pattern)):\n",
        "    # print(window_hash)\n",
        "    if window_hash == pattern_hash:\n",
        "        print(f\"Pattern found at position: {i}\")\n",
        "    window_hash = window_hash - ord(text[i])\n",
        "    window_hash //= 10\n",
        "    window_hash += ord(text[i + len(pattern)])*(10**(len(pattern)-1))"
      ],
      "metadata": {
        "colab": {
          "base_uri": "https://localhost:8080/"
        },
        "id": "TqCynQG3rzSD",
        "outputId": "9e05b2bc-1467-4a40-d4d4-ed7db20c04c3"
      },
      "execution_count": 1,
      "outputs": [
        {
          "output_type": "stream",
          "name": "stdout",
          "text": [
            "1096797\n"
          ]
        }
      ]
    },
    {
      "cell_type": "code",
      "source": [
        "from pypdf import PdfReader\n",
        "\n",
        "reader = PdfReader('book.pdf')\n",
        "\n",
        "\n",
        "bigString = \"\"\n",
        "for page in reader.pages:\n",
        "    bigString += page.extract_text()\n",
        "words = bigString.split()\n",
        "print(len(words))"
      ],
      "metadata": {
        "id": "Pei0LOjktnHP"
      },
      "execution_count": null,
      "outputs": []
    },
    {
      "cell_type": "code",
      "source": [
        "pattern = \"rough\"\n",
        "cnt = 0\n",
        "for word in words:\n",
        "    if pattern in word.lower():\n",
        "        cnt += 1\n",
        "print(cnt)"
      ],
      "metadata": {
        "id": "--7Odw_ht3gZ"
      },
      "execution_count": null,
      "outputs": []
    }
  ]
}