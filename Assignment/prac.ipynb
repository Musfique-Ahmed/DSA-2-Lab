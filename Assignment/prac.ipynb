{
 "cells": [
  {
   "cell_type": "code",
   "execution_count": 1,
   "metadata": {},
   "outputs": [
    {
     "ename": "TclError",
     "evalue": "invalid command name \".!canvas\"",
     "output_type": "error",
     "traceback": [
      "\u001b[1;31m---------------------------------------------------------------------------\u001b[0m",
      "\u001b[1;31mTclError\u001b[0m                                  Traceback (most recent call last)",
      "Cell \u001b[1;32mIn[1], line 44\u001b[0m\n\u001b[0;32m     41\u001b[0m triangle_points \u001b[38;5;241m=\u001b[39m [(\u001b[38;5;241m-\u001b[39msize, \u001b[38;5;241m-\u001b[39msize), (\u001b[38;5;241m0\u001b[39m, size), (size, \u001b[38;5;241m-\u001b[39msize)]\n\u001b[0;32m     43\u001b[0m \u001b[38;5;66;03m# Start drawing the Sierpinski Triangle\u001b[39;00m\n\u001b[1;32m---> 44\u001b[0m \u001b[43msierpinski\u001b[49m\u001b[43m(\u001b[49m\u001b[43mtriangle_points\u001b[49m\u001b[43m,\u001b[49m\u001b[43m \u001b[49m\u001b[38;5;241;43m6\u001b[39;49m\u001b[43m,\u001b[49m\u001b[43m \u001b[49m\u001b[43mpen\u001b[49m\u001b[43m)\u001b[49m\n\u001b[0;32m     46\u001b[0m turtle\u001b[38;5;241m.\u001b[39mdone()  \u001b[38;5;66;03m# Finish drawing\u001b[39;00m\n",
      "Cell \u001b[1;32mIn[1], line 28\u001b[0m, in \u001b[0;36msierpinski\u001b[1;34m(vertices, depth, pen)\u001b[0m\n\u001b[0;32m     26\u001b[0m \u001b[38;5;66;03m# Recursively draw three smaller triangles\u001b[39;00m\n\u001b[0;32m     27\u001b[0m sierpinski([vertices[\u001b[38;5;241m0\u001b[39m], mid1, mid3], depth \u001b[38;5;241m-\u001b[39m \u001b[38;5;241m1\u001b[39m, pen)\n\u001b[1;32m---> 28\u001b[0m \u001b[43msierpinski\u001b[49m\u001b[43m(\u001b[49m\u001b[43m[\u001b[49m\u001b[43mvertices\u001b[49m\u001b[43m[\u001b[49m\u001b[38;5;241;43m1\u001b[39;49m\u001b[43m]\u001b[49m\u001b[43m,\u001b[49m\u001b[43m \u001b[49m\u001b[43mmid1\u001b[49m\u001b[43m,\u001b[49m\u001b[43m \u001b[49m\u001b[43mmid2\u001b[49m\u001b[43m]\u001b[49m\u001b[43m,\u001b[49m\u001b[43m \u001b[49m\u001b[43mdepth\u001b[49m\u001b[43m \u001b[49m\u001b[38;5;241;43m-\u001b[39;49m\u001b[43m \u001b[49m\u001b[38;5;241;43m1\u001b[39;49m\u001b[43m,\u001b[49m\u001b[43m \u001b[49m\u001b[43mpen\u001b[49m\u001b[43m)\u001b[49m\n\u001b[0;32m     29\u001b[0m sierpinski([vertices[\u001b[38;5;241m2\u001b[39m], mid2, mid3], depth \u001b[38;5;241m-\u001b[39m \u001b[38;5;241m1\u001b[39m, pen)\n",
      "Cell \u001b[1;32mIn[1], line 28\u001b[0m, in \u001b[0;36msierpinski\u001b[1;34m(vertices, depth, pen)\u001b[0m\n\u001b[0;32m     26\u001b[0m \u001b[38;5;66;03m# Recursively draw three smaller triangles\u001b[39;00m\n\u001b[0;32m     27\u001b[0m sierpinski([vertices[\u001b[38;5;241m0\u001b[39m], mid1, mid3], depth \u001b[38;5;241m-\u001b[39m \u001b[38;5;241m1\u001b[39m, pen)\n\u001b[1;32m---> 28\u001b[0m \u001b[43msierpinski\u001b[49m\u001b[43m(\u001b[49m\u001b[43m[\u001b[49m\u001b[43mvertices\u001b[49m\u001b[43m[\u001b[49m\u001b[38;5;241;43m1\u001b[39;49m\u001b[43m]\u001b[49m\u001b[43m,\u001b[49m\u001b[43m \u001b[49m\u001b[43mmid1\u001b[49m\u001b[43m,\u001b[49m\u001b[43m \u001b[49m\u001b[43mmid2\u001b[49m\u001b[43m]\u001b[49m\u001b[43m,\u001b[49m\u001b[43m \u001b[49m\u001b[43mdepth\u001b[49m\u001b[43m \u001b[49m\u001b[38;5;241;43m-\u001b[39;49m\u001b[43m \u001b[49m\u001b[38;5;241;43m1\u001b[39;49m\u001b[43m,\u001b[49m\u001b[43m \u001b[49m\u001b[43mpen\u001b[49m\u001b[43m)\u001b[49m\n\u001b[0;32m     29\u001b[0m sierpinski([vertices[\u001b[38;5;241m2\u001b[39m], mid2, mid3], depth \u001b[38;5;241m-\u001b[39m \u001b[38;5;241m1\u001b[39m, pen)\n",
      "    \u001b[1;31m[... skipping similar frames: sierpinski at line 28 (1 times)]\u001b[0m\n",
      "Cell \u001b[1;32mIn[1], line 28\u001b[0m, in \u001b[0;36msierpinski\u001b[1;34m(vertices, depth, pen)\u001b[0m\n\u001b[0;32m     26\u001b[0m \u001b[38;5;66;03m# Recursively draw three smaller triangles\u001b[39;00m\n\u001b[0;32m     27\u001b[0m sierpinski([vertices[\u001b[38;5;241m0\u001b[39m], mid1, mid3], depth \u001b[38;5;241m-\u001b[39m \u001b[38;5;241m1\u001b[39m, pen)\n\u001b[1;32m---> 28\u001b[0m \u001b[43msierpinski\u001b[49m\u001b[43m(\u001b[49m\u001b[43m[\u001b[49m\u001b[43mvertices\u001b[49m\u001b[43m[\u001b[49m\u001b[38;5;241;43m1\u001b[39;49m\u001b[43m]\u001b[49m\u001b[43m,\u001b[49m\u001b[43m \u001b[49m\u001b[43mmid1\u001b[49m\u001b[43m,\u001b[49m\u001b[43m \u001b[49m\u001b[43mmid2\u001b[49m\u001b[43m]\u001b[49m\u001b[43m,\u001b[49m\u001b[43m \u001b[49m\u001b[43mdepth\u001b[49m\u001b[43m \u001b[49m\u001b[38;5;241;43m-\u001b[39;49m\u001b[43m \u001b[49m\u001b[38;5;241;43m1\u001b[39;49m\u001b[43m,\u001b[49m\u001b[43m \u001b[49m\u001b[43mpen\u001b[49m\u001b[43m)\u001b[49m\n\u001b[0;32m     29\u001b[0m sierpinski([vertices[\u001b[38;5;241m2\u001b[39m], mid2, mid3], depth \u001b[38;5;241m-\u001b[39m \u001b[38;5;241m1\u001b[39m, pen)\n",
      "Cell \u001b[1;32mIn[1], line 27\u001b[0m, in \u001b[0;36msierpinski\u001b[1;34m(vertices, depth, pen)\u001b[0m\n\u001b[0;32m     24\u001b[0m mid3 \u001b[38;5;241m=\u001b[39m midpoint(vertices[\u001b[38;5;241m0\u001b[39m], vertices[\u001b[38;5;241m2\u001b[39m])\n\u001b[0;32m     26\u001b[0m \u001b[38;5;66;03m# Recursively draw three smaller triangles\u001b[39;00m\n\u001b[1;32m---> 27\u001b[0m \u001b[43msierpinski\u001b[49m\u001b[43m(\u001b[49m\u001b[43m[\u001b[49m\u001b[43mvertices\u001b[49m\u001b[43m[\u001b[49m\u001b[38;5;241;43m0\u001b[39;49m\u001b[43m]\u001b[49m\u001b[43m,\u001b[49m\u001b[43m \u001b[49m\u001b[43mmid1\u001b[49m\u001b[43m,\u001b[49m\u001b[43m \u001b[49m\u001b[43mmid3\u001b[49m\u001b[43m]\u001b[49m\u001b[43m,\u001b[49m\u001b[43m \u001b[49m\u001b[43mdepth\u001b[49m\u001b[43m \u001b[49m\u001b[38;5;241;43m-\u001b[39;49m\u001b[43m \u001b[49m\u001b[38;5;241;43m1\u001b[39;49m\u001b[43m,\u001b[49m\u001b[43m \u001b[49m\u001b[43mpen\u001b[49m\u001b[43m)\u001b[49m\n\u001b[0;32m     28\u001b[0m sierpinski([vertices[\u001b[38;5;241m1\u001b[39m], mid1, mid2], depth \u001b[38;5;241m-\u001b[39m \u001b[38;5;241m1\u001b[39m, pen)\n\u001b[0;32m     29\u001b[0m sierpinski([vertices[\u001b[38;5;241m2\u001b[39m], mid2, mid3], depth \u001b[38;5;241m-\u001b[39m \u001b[38;5;241m1\u001b[39m, pen)\n",
      "Cell \u001b[1;32mIn[1], line 27\u001b[0m, in \u001b[0;36msierpinski\u001b[1;34m(vertices, depth, pen)\u001b[0m\n\u001b[0;32m     24\u001b[0m mid3 \u001b[38;5;241m=\u001b[39m midpoint(vertices[\u001b[38;5;241m0\u001b[39m], vertices[\u001b[38;5;241m2\u001b[39m])\n\u001b[0;32m     26\u001b[0m \u001b[38;5;66;03m# Recursively draw three smaller triangles\u001b[39;00m\n\u001b[1;32m---> 27\u001b[0m \u001b[43msierpinski\u001b[49m\u001b[43m(\u001b[49m\u001b[43m[\u001b[49m\u001b[43mvertices\u001b[49m\u001b[43m[\u001b[49m\u001b[38;5;241;43m0\u001b[39;49m\u001b[43m]\u001b[49m\u001b[43m,\u001b[49m\u001b[43m \u001b[49m\u001b[43mmid1\u001b[49m\u001b[43m,\u001b[49m\u001b[43m \u001b[49m\u001b[43mmid3\u001b[49m\u001b[43m]\u001b[49m\u001b[43m,\u001b[49m\u001b[43m \u001b[49m\u001b[43mdepth\u001b[49m\u001b[43m \u001b[49m\u001b[38;5;241;43m-\u001b[39;49m\u001b[43m \u001b[49m\u001b[38;5;241;43m1\u001b[39;49m\u001b[43m,\u001b[49m\u001b[43m \u001b[49m\u001b[43mpen\u001b[49m\u001b[43m)\u001b[49m\n\u001b[0;32m     28\u001b[0m sierpinski([vertices[\u001b[38;5;241m1\u001b[39m], mid1, mid2], depth \u001b[38;5;241m-\u001b[39m \u001b[38;5;241m1\u001b[39m, pen)\n\u001b[0;32m     29\u001b[0m sierpinski([vertices[\u001b[38;5;241m2\u001b[39m], mid2, mid3], depth \u001b[38;5;241m-\u001b[39m \u001b[38;5;241m1\u001b[39m, pen)\n",
      "Cell \u001b[1;32mIn[1], line 18\u001b[0m, in \u001b[0;36msierpinski\u001b[1;34m(vertices, depth, pen)\u001b[0m\n\u001b[0;32m     16\u001b[0m \u001b[38;5;28;01mdef\u001b[39;00m \u001b[38;5;21msierpinski\u001b[39m(vertices, depth, pen):\n\u001b[0;32m     17\u001b[0m \u001b[38;5;250m    \u001b[39m\u001b[38;5;124;03m\"\"\"Recursively draws the Sierpinski Triangle.\"\"\"\u001b[39;00m\n\u001b[1;32m---> 18\u001b[0m     \u001b[43mdraw_triangle\u001b[49m\u001b[43m(\u001b[49m\u001b[43mvertices\u001b[49m\u001b[43m,\u001b[49m\u001b[43m \u001b[49m\u001b[43mpen\u001b[49m\u001b[43m)\u001b[49m  \n\u001b[0;32m     20\u001b[0m     \u001b[38;5;28;01mif\u001b[39;00m depth \u001b[38;5;241m>\u001b[39m \u001b[38;5;241m0\u001b[39m:\n\u001b[0;32m     21\u001b[0m         \u001b[38;5;66;03m# Find midpoints\u001b[39;00m\n\u001b[0;32m     22\u001b[0m         mid1 \u001b[38;5;241m=\u001b[39m midpoint(vertices[\u001b[38;5;241m0\u001b[39m], vertices[\u001b[38;5;241m1\u001b[39m])\n",
      "Cell \u001b[1;32mIn[1], line 7\u001b[0m, in \u001b[0;36mdraw_triangle\u001b[1;34m(vertices, pen)\u001b[0m\n\u001b[0;32m      5\u001b[0m pen\u001b[38;5;241m.\u001b[39mpenup()\n\u001b[0;32m      6\u001b[0m pen\u001b[38;5;241m.\u001b[39mgoto(vertices[\u001b[38;5;241m0\u001b[39m])  \n\u001b[1;32m----> 7\u001b[0m \u001b[43mpen\u001b[49m\u001b[38;5;241;43m.\u001b[39;49m\u001b[43mpendown\u001b[49m\u001b[43m(\u001b[49m\u001b[43m)\u001b[49m\n\u001b[0;32m      8\u001b[0m pen\u001b[38;5;241m.\u001b[39mgoto(vertices[\u001b[38;5;241m1\u001b[39m])  \n\u001b[0;32m      9\u001b[0m pen\u001b[38;5;241m.\u001b[39mgoto(vertices[\u001b[38;5;241m2\u001b[39m])  \n",
      "File \u001b[1;32mc:\\Musfique's Folder\\apps\\Lib\\turtle.py:2120\u001b[0m, in \u001b[0;36mTPen.pendown\u001b[1;34m(self)\u001b[0m\n\u001b[0;32m   2118\u001b[0m \u001b[38;5;28;01mif\u001b[39;00m \u001b[38;5;28mself\u001b[39m\u001b[38;5;241m.\u001b[39m_drawing:\n\u001b[0;32m   2119\u001b[0m     \u001b[38;5;28;01mreturn\u001b[39;00m\n\u001b[1;32m-> 2120\u001b[0m \u001b[38;5;28;43mself\u001b[39;49m\u001b[38;5;241;43m.\u001b[39;49m\u001b[43mpen\u001b[49m\u001b[43m(\u001b[49m\u001b[43mpendown\u001b[49m\u001b[38;5;241;43m=\u001b[39;49m\u001b[38;5;28;43;01mTrue\u001b[39;49;00m\u001b[43m)\u001b[49m\n",
      "File \u001b[1;32mc:\\Musfique's Folder\\apps\\Lib\\turtle.py:2433\u001b[0m, in \u001b[0;36mTPen.pen\u001b[1;34m(self, pen, **pendict)\u001b[0m\n\u001b[0;32m   2431\u001b[0m         newLine \u001b[38;5;241m=\u001b[39m \u001b[38;5;28;01mTrue\u001b[39;00m\n\u001b[0;32m   2432\u001b[0m \u001b[38;5;28;01mif\u001b[39;00m newLine:\n\u001b[1;32m-> 2433\u001b[0m     \u001b[38;5;28;43mself\u001b[39;49m\u001b[38;5;241;43m.\u001b[39;49m\u001b[43m_newLine\u001b[49m\u001b[43m(\u001b[49m\u001b[43m)\u001b[49m\n\u001b[0;32m   2434\u001b[0m \u001b[38;5;28;01mif\u001b[39;00m \u001b[38;5;124m\"\u001b[39m\u001b[38;5;124mpendown\u001b[39m\u001b[38;5;124m\"\u001b[39m \u001b[38;5;129;01min\u001b[39;00m p:\n\u001b[0;32m   2435\u001b[0m     \u001b[38;5;28mself\u001b[39m\u001b[38;5;241m.\u001b[39m_drawing \u001b[38;5;241m=\u001b[39m p[\u001b[38;5;124m\"\u001b[39m\u001b[38;5;124mpendown\u001b[39m\u001b[38;5;124m\"\u001b[39m]\n",
      "File \u001b[1;32mc:\\Musfique's Folder\\apps\\Lib\\turtle.py:3363\u001b[0m, in \u001b[0;36mRawTurtle._newLine\u001b[1;34m(self, usePos)\u001b[0m\n\u001b[0;32m   3361\u001b[0m     \u001b[38;5;28mself\u001b[39m\u001b[38;5;241m.\u001b[39mitems\u001b[38;5;241m.\u001b[39mappend(\u001b[38;5;28mself\u001b[39m\u001b[38;5;241m.\u001b[39mcurrentLineItem)\n\u001b[0;32m   3362\u001b[0m \u001b[38;5;28;01melse\u001b[39;00m:\n\u001b[1;32m-> 3363\u001b[0m     \u001b[38;5;28;43mself\u001b[39;49m\u001b[38;5;241;43m.\u001b[39;49m\u001b[43mscreen\u001b[49m\u001b[38;5;241;43m.\u001b[39;49m\u001b[43m_drawline\u001b[49m\u001b[43m(\u001b[49m\u001b[38;5;28;43mself\u001b[39;49m\u001b[38;5;241;43m.\u001b[39;49m\u001b[43mcurrentLineItem\u001b[49m\u001b[43m,\u001b[49m\u001b[43m \u001b[49m\u001b[43mtop\u001b[49m\u001b[38;5;241;43m=\u001b[39;49m\u001b[38;5;28;43;01mTrue\u001b[39;49;00m\u001b[43m)\u001b[49m\n\u001b[0;32m   3364\u001b[0m \u001b[38;5;28mself\u001b[39m\u001b[38;5;241m.\u001b[39mcurrentLine \u001b[38;5;241m=\u001b[39m []\n\u001b[0;32m   3365\u001b[0m \u001b[38;5;28;01mif\u001b[39;00m usePos:\n",
      "File \u001b[1;32mc:\\Musfique's Folder\\apps\\Lib\\turtle.py:545\u001b[0m, in \u001b[0;36mTurtleScreenBase._drawline\u001b[1;34m(self, lineitem, coordlist, fill, width, top)\u001b[0m\n\u001b[0;32m    543\u001b[0m     \u001b[38;5;28mself\u001b[39m\u001b[38;5;241m.\u001b[39mcv\u001b[38;5;241m.\u001b[39mitemconfigure(lineitem, width\u001b[38;5;241m=\u001b[39mwidth)\n\u001b[0;32m    544\u001b[0m \u001b[38;5;28;01mif\u001b[39;00m top:\n\u001b[1;32m--> 545\u001b[0m     \u001b[38;5;28;43mself\u001b[39;49m\u001b[38;5;241;43m.\u001b[39;49m\u001b[43mcv\u001b[49m\u001b[38;5;241;43m.\u001b[39;49m\u001b[43mtag_raise\u001b[49m\u001b[43m(\u001b[49m\u001b[43mlineitem\u001b[49m\u001b[43m)\u001b[49m\n",
      "File \u001b[1;32m<string>:1\u001b[0m, in \u001b[0;36mtag_raise\u001b[1;34m(self, *args, **kw)\u001b[0m\n",
      "File \u001b[1;32mc:\\Musfique's Folder\\apps\\Lib\\tkinter\\__init__.py:3027\u001b[0m, in \u001b[0;36mCanvas.tag_raise\u001b[1;34m(self, *args)\u001b[0m\n\u001b[0;32m   3024\u001b[0m \u001b[38;5;28;01mdef\u001b[39;00m \u001b[38;5;21mtag_raise\u001b[39m(\u001b[38;5;28mself\u001b[39m, \u001b[38;5;241m*\u001b[39margs):\n\u001b[0;32m   3025\u001b[0m \u001b[38;5;250m    \u001b[39m\u001b[38;5;124;03m\"\"\"Raise an item TAGORID given in ARGS\u001b[39;00m\n\u001b[0;32m   3026\u001b[0m \u001b[38;5;124;03m    (optional above another item).\"\"\"\u001b[39;00m\n\u001b[1;32m-> 3027\u001b[0m     \u001b[38;5;28;43mself\u001b[39;49m\u001b[38;5;241;43m.\u001b[39;49m\u001b[43mtk\u001b[49m\u001b[38;5;241;43m.\u001b[39;49m\u001b[43mcall\u001b[49m\u001b[43m(\u001b[49m\u001b[43m(\u001b[49m\u001b[38;5;28;43mself\u001b[39;49m\u001b[38;5;241;43m.\u001b[39;49m\u001b[43m_w\u001b[49m\u001b[43m,\u001b[49m\u001b[43m \u001b[49m\u001b[38;5;124;43m'\u001b[39;49m\u001b[38;5;124;43mraise\u001b[39;49m\u001b[38;5;124;43m'\u001b[39;49m\u001b[43m)\u001b[49m\u001b[43m \u001b[49m\u001b[38;5;241;43m+\u001b[39;49m\u001b[43m \u001b[49m\u001b[43margs\u001b[49m\u001b[43m)\u001b[49m\n",
      "\u001b[1;31mTclError\u001b[0m: invalid command name \".!canvas\""
     ]
    }
   ],
   "source": [
    "import turtle\n",
    "\n",
    "def draw_triangle(vertices, pen):\n",
    "    \"\"\"Draws a triangle connecting three given points.\"\"\"\n",
    "    pen.penup()\n",
    "    pen.goto(vertices[0])  \n",
    "    pen.pendown()\n",
    "    pen.goto(vertices[1])  \n",
    "    pen.goto(vertices[2])  \n",
    "    pen.goto(vertices[0])  \n",
    "\n",
    "def midpoint(p1, p2):\n",
    "    \"\"\"Finds the midpoint between two points.\"\"\"\n",
    "    return ((p1[0] + p2[0]) / 2, (p1[1] + p2[1]) / 2)\n",
    "\n",
    "def sierpinski(vertices, depth, pen):\n",
    "    \"\"\"Recursively draws the Sierpinski Triangle.\"\"\"\n",
    "    draw_triangle(vertices, pen)  \n",
    "\n",
    "    if depth > 0:\n",
    "        # Find midpoints\n",
    "        mid1 = midpoint(vertices[0], vertices[1])\n",
    "        mid2 = midpoint(vertices[1], vertices[2])\n",
    "        mid3 = midpoint(vertices[0], vertices[2])\n",
    "\n",
    "        # Recursively draw three smaller triangles\n",
    "        sierpinski([vertices[0], mid1, mid3], depth - 1, pen)\n",
    "        sierpinski([vertices[1], mid1, mid2], depth - 1, pen)\n",
    "        sierpinski([vertices[2], mid2, mid3], depth - 1, pen)\n",
    "\n",
    "# Set up the drawing\n",
    "screen = turtle.Screen()\n",
    "screen.bgcolor(\"white\")\n",
    "\n",
    "pen = turtle.Turtle()\n",
    "pen.speed(0)  # Max speed for fastest drawing\n",
    "pen.hideturtle()  # Hide turtle cursor for a cleaner look\n",
    "\n",
    "# Define the main triangle's points\n",
    "size = 300\n",
    "triangle_points = [(-size, -size), (0, size), (size, -size)]\n",
    "\n",
    "# Start drawing the Sierpinski Triangle\n",
    "sierpinski(triangle_points, 6, pen)\n",
    "\n",
    "turtle.done()  # Finish drawing\n"
   ]
  }
 ],
 "metadata": {
  "kernelspec": {
   "display_name": "Python 3",
   "language": "python",
   "name": "python3"
  },
  "language_info": {
   "codemirror_mode": {
    "name": "ipython",
    "version": 3
   },
   "file_extension": ".py",
   "mimetype": "text/x-python",
   "name": "python",
   "nbconvert_exporter": "python",
   "pygments_lexer": "ipython3",
   "version": "3.12.8"
  }
 },
 "nbformat": 4,
 "nbformat_minor": 2
}
